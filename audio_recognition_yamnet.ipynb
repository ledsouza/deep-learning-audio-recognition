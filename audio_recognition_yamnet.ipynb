{
 "cells": [
  {
   "cell_type": "markdown",
   "metadata": {},
   "source": [
    "# Audio Recognition for Security\n",
    "A model will be developed to accurately recognize audio related to security threats, such as breaking glass. A pre-trained model will serve as the foundation for this development."
   ]
  },
  {
   "cell_type": "code",
   "execution_count": 117,
   "metadata": {},
   "outputs": [],
   "source": [
    "import tensorflow as tf\n",
    "import tensorflow_hub as hub\n",
    "import numpy as np\n",
    "import pandas as pd\n",
    "import io\n",
    "import os"
   ]
  },
  {
   "cell_type": "markdown",
   "metadata": {},
   "source": [
    "## Utilizando Yamnet\n",
    "https://www.kaggle.com/models/google/yamnet"
   ]
  },
  {
   "cell_type": "code",
   "execution_count": 118,
   "metadata": {},
   "outputs": [
    {
     "data": {
      "text/plain": [
       "<tf.Tensor: shape=(6, 521), dtype=float32, numpy=\n",
       "array([[8.2512805e-08, 0.0000000e+00, 0.0000000e+00, ..., 0.0000000e+00,\n",
       "        0.0000000e+00, 0.0000000e+00],\n",
       "       [8.2512805e-08, 0.0000000e+00, 0.0000000e+00, ..., 0.0000000e+00,\n",
       "        0.0000000e+00, 0.0000000e+00],\n",
       "       [8.2512805e-08, 0.0000000e+00, 0.0000000e+00, ..., 0.0000000e+00,\n",
       "        0.0000000e+00, 0.0000000e+00],\n",
       "       [8.2512805e-08, 0.0000000e+00, 0.0000000e+00, ..., 0.0000000e+00,\n",
       "        0.0000000e+00, 0.0000000e+00],\n",
       "       [8.2512805e-08, 0.0000000e+00, 0.0000000e+00, ..., 0.0000000e+00,\n",
       "        0.0000000e+00, 0.0000000e+00],\n",
       "       [8.2512805e-08, 0.0000000e+00, 0.0000000e+00, ..., 0.0000000e+00,\n",
       "        0.0000000e+00, 0.0000000e+00]], dtype=float32)>"
      ]
     },
     "execution_count": 118,
     "metadata": {},
     "output_type": "execute_result"
    }
   ],
   "source": [
    "model = hub.load('https://www.kaggle.com/models/google/yamnet/TensorFlow2/yamnet/1')\n",
    "\n",
    "# Input: 3 seconds of silence as mono 16 kHz waveform samples.\n",
    "waveform = np.zeros(3 * 16000, dtype=np.float32)\n",
    "\n",
    "scores, embeddings, log_mel_spectrogram = model(waveform)\n",
    "scores"
   ]
  },
  {
   "cell_type": "code",
   "execution_count": 119,
   "metadata": {},
   "outputs": [],
   "source": [
    "def class_names_from_csv(class_map_csv_text):\n",
    "    \"\"\"Returns a list of class labels corresponding to the score vector.\"\"\"\n",
    "    class_map_df = pd.read_csv(io.StringIO(class_map_csv_text))\n",
    "    class_names = class_map_df['display_name'].tolist()\n",
    "    return class_names"
   ]
  },
  {
   "cell_type": "code",
   "execution_count": 120,
   "metadata": {},
   "outputs": [
    {
     "data": {
      "text/plain": [
       "['Speech',\n",
       " 'Child speech, kid speaking',\n",
       " 'Conversation',\n",
       " 'Narration, monologue',\n",
       " 'Babbling',\n",
       " 'Speech synthesizer',\n",
       " 'Shout',\n",
       " 'Bellow',\n",
       " 'Whoop',\n",
       " 'Yell',\n",
       " 'Children shouting',\n",
       " 'Screaming',\n",
       " 'Whispering',\n",
       " 'Laughter',\n",
       " 'Baby laughter',\n",
       " 'Giggle',\n",
       " 'Snicker',\n",
       " 'Belly laugh',\n",
       " 'Chuckle, chortle',\n",
       " 'Crying, sobbing',\n",
       " 'Baby cry, infant cry',\n",
       " 'Whimper',\n",
       " 'Wail, moan',\n",
       " 'Sigh',\n",
       " 'Singing',\n",
       " 'Choir',\n",
       " 'Yodeling',\n",
       " 'Chant',\n",
       " 'Mantra',\n",
       " 'Child singing',\n",
       " 'Synthetic singing',\n",
       " 'Rapping',\n",
       " 'Humming',\n",
       " 'Groan',\n",
       " 'Grunt',\n",
       " 'Whistling',\n",
       " 'Breathing',\n",
       " 'Wheeze',\n",
       " 'Snoring',\n",
       " 'Gasp',\n",
       " 'Pant',\n",
       " 'Snort',\n",
       " 'Cough',\n",
       " 'Throat clearing',\n",
       " 'Sneeze',\n",
       " 'Sniff',\n",
       " 'Run',\n",
       " 'Shuffle',\n",
       " 'Walk, footsteps',\n",
       " 'Chewing, mastication',\n",
       " 'Biting',\n",
       " 'Gargling',\n",
       " 'Stomach rumble',\n",
       " 'Burping, eructation',\n",
       " 'Hiccup',\n",
       " 'Fart',\n",
       " 'Hands',\n",
       " 'Finger snapping',\n",
       " 'Clapping',\n",
       " 'Heart sounds, heartbeat',\n",
       " 'Heart murmur',\n",
       " 'Cheering',\n",
       " 'Applause',\n",
       " 'Chatter',\n",
       " 'Crowd',\n",
       " 'Hubbub, speech noise, speech babble',\n",
       " 'Children playing',\n",
       " 'Animal',\n",
       " 'Domestic animals, pets',\n",
       " 'Dog',\n",
       " 'Bark',\n",
       " 'Yip',\n",
       " 'Howl',\n",
       " 'Bow-wow',\n",
       " 'Growling',\n",
       " 'Whimper (dog)',\n",
       " 'Cat',\n",
       " 'Purr',\n",
       " 'Meow',\n",
       " 'Hiss',\n",
       " 'Caterwaul',\n",
       " 'Livestock, farm animals, working animals',\n",
       " 'Horse',\n",
       " 'Clip-clop',\n",
       " 'Neigh, whinny',\n",
       " 'Cattle, bovinae',\n",
       " 'Moo',\n",
       " 'Cowbell',\n",
       " 'Pig',\n",
       " 'Oink',\n",
       " 'Goat',\n",
       " 'Bleat',\n",
       " 'Sheep',\n",
       " 'Fowl',\n",
       " 'Chicken, rooster',\n",
       " 'Cluck',\n",
       " 'Crowing, cock-a-doodle-doo',\n",
       " 'Turkey',\n",
       " 'Gobble',\n",
       " 'Duck',\n",
       " 'Quack',\n",
       " 'Goose',\n",
       " 'Honk',\n",
       " 'Wild animals',\n",
       " 'Roaring cats (lions, tigers)',\n",
       " 'Roar',\n",
       " 'Bird',\n",
       " 'Bird vocalization, bird call, bird song',\n",
       " 'Chirp, tweet',\n",
       " 'Squawk',\n",
       " 'Pigeon, dove',\n",
       " 'Coo',\n",
       " 'Crow',\n",
       " 'Caw',\n",
       " 'Owl',\n",
       " 'Hoot',\n",
       " 'Bird flight, flapping wings',\n",
       " 'Canidae, dogs, wolves',\n",
       " 'Rodents, rats, mice',\n",
       " 'Mouse',\n",
       " 'Patter',\n",
       " 'Insect',\n",
       " 'Cricket',\n",
       " 'Mosquito',\n",
       " 'Fly, housefly',\n",
       " 'Buzz',\n",
       " 'Bee, wasp, etc.',\n",
       " 'Frog',\n",
       " 'Croak',\n",
       " 'Snake',\n",
       " 'Rattle',\n",
       " 'Whale vocalization',\n",
       " 'Music',\n",
       " 'Musical instrument',\n",
       " 'Plucked string instrument',\n",
       " 'Guitar',\n",
       " 'Electric guitar',\n",
       " 'Bass guitar',\n",
       " 'Acoustic guitar',\n",
       " 'Steel guitar, slide guitar',\n",
       " 'Tapping (guitar technique)',\n",
       " 'Strum',\n",
       " 'Banjo',\n",
       " 'Sitar',\n",
       " 'Mandolin',\n",
       " 'Zither',\n",
       " 'Ukulele',\n",
       " 'Keyboard (musical)',\n",
       " 'Piano',\n",
       " 'Electric piano',\n",
       " 'Organ',\n",
       " 'Electronic organ',\n",
       " 'Hammond organ',\n",
       " 'Synthesizer',\n",
       " 'Sampler',\n",
       " 'Harpsichord',\n",
       " 'Percussion',\n",
       " 'Drum kit',\n",
       " 'Drum machine',\n",
       " 'Drum',\n",
       " 'Snare drum',\n",
       " 'Rimshot',\n",
       " 'Drum roll',\n",
       " 'Bass drum',\n",
       " 'Timpani',\n",
       " 'Tabla',\n",
       " 'Cymbal',\n",
       " 'Hi-hat',\n",
       " 'Wood block',\n",
       " 'Tambourine',\n",
       " 'Rattle (instrument)',\n",
       " 'Maraca',\n",
       " 'Gong',\n",
       " 'Tubular bells',\n",
       " 'Mallet percussion',\n",
       " 'Marimba, xylophone',\n",
       " 'Glockenspiel',\n",
       " 'Vibraphone',\n",
       " 'Steelpan',\n",
       " 'Orchestra',\n",
       " 'Brass instrument',\n",
       " 'French horn',\n",
       " 'Trumpet',\n",
       " 'Trombone',\n",
       " 'Bowed string instrument',\n",
       " 'String section',\n",
       " 'Violin, fiddle',\n",
       " 'Pizzicato',\n",
       " 'Cello',\n",
       " 'Double bass',\n",
       " 'Wind instrument, woodwind instrument',\n",
       " 'Flute',\n",
       " 'Saxophone',\n",
       " 'Clarinet',\n",
       " 'Harp',\n",
       " 'Bell',\n",
       " 'Church bell',\n",
       " 'Jingle bell',\n",
       " 'Bicycle bell',\n",
       " 'Tuning fork',\n",
       " 'Chime',\n",
       " 'Wind chime',\n",
       " 'Change ringing (campanology)',\n",
       " 'Harmonica',\n",
       " 'Accordion',\n",
       " 'Bagpipes',\n",
       " 'Didgeridoo',\n",
       " 'Shofar',\n",
       " 'Theremin',\n",
       " 'Singing bowl',\n",
       " 'Scratching (performance technique)',\n",
       " 'Pop music',\n",
       " 'Hip hop music',\n",
       " 'Beatboxing',\n",
       " 'Rock music',\n",
       " 'Heavy metal',\n",
       " 'Punk rock',\n",
       " 'Grunge',\n",
       " 'Progressive rock',\n",
       " 'Rock and roll',\n",
       " 'Psychedelic rock',\n",
       " 'Rhythm and blues',\n",
       " 'Soul music',\n",
       " 'Reggae',\n",
       " 'Country',\n",
       " 'Swing music',\n",
       " 'Bluegrass',\n",
       " 'Funk',\n",
       " 'Folk music',\n",
       " 'Middle Eastern music',\n",
       " 'Jazz',\n",
       " 'Disco',\n",
       " 'Classical music',\n",
       " 'Opera',\n",
       " 'Electronic music',\n",
       " 'House music',\n",
       " 'Techno',\n",
       " 'Dubstep',\n",
       " 'Drum and bass',\n",
       " 'Electronica',\n",
       " 'Electronic dance music',\n",
       " 'Ambient music',\n",
       " 'Trance music',\n",
       " 'Music of Latin America',\n",
       " 'Salsa music',\n",
       " 'Flamenco',\n",
       " 'Blues',\n",
       " 'Music for children',\n",
       " 'New-age music',\n",
       " 'Vocal music',\n",
       " 'A capella',\n",
       " 'Music of Africa',\n",
       " 'Afrobeat',\n",
       " 'Christian music',\n",
       " 'Gospel music',\n",
       " 'Music of Asia',\n",
       " 'Carnatic music',\n",
       " 'Music of Bollywood',\n",
       " 'Ska',\n",
       " 'Traditional music',\n",
       " 'Independent music',\n",
       " 'Song',\n",
       " 'Background music',\n",
       " 'Theme music',\n",
       " 'Jingle (music)',\n",
       " 'Soundtrack music',\n",
       " 'Lullaby',\n",
       " 'Video game music',\n",
       " 'Christmas music',\n",
       " 'Dance music',\n",
       " 'Wedding music',\n",
       " 'Happy music',\n",
       " 'Sad music',\n",
       " 'Tender music',\n",
       " 'Exciting music',\n",
       " 'Angry music',\n",
       " 'Scary music',\n",
       " 'Wind',\n",
       " 'Rustling leaves',\n",
       " 'Wind noise (microphone)',\n",
       " 'Thunderstorm',\n",
       " 'Thunder',\n",
       " 'Water',\n",
       " 'Rain',\n",
       " 'Raindrop',\n",
       " 'Rain on surface',\n",
       " 'Stream',\n",
       " 'Waterfall',\n",
       " 'Ocean',\n",
       " 'Waves, surf',\n",
       " 'Steam',\n",
       " 'Gurgling',\n",
       " 'Fire',\n",
       " 'Crackle',\n",
       " 'Vehicle',\n",
       " 'Boat, Water vehicle',\n",
       " 'Sailboat, sailing ship',\n",
       " 'Rowboat, canoe, kayak',\n",
       " 'Motorboat, speedboat',\n",
       " 'Ship',\n",
       " 'Motor vehicle (road)',\n",
       " 'Car',\n",
       " 'Vehicle horn, car horn, honking',\n",
       " 'Toot',\n",
       " 'Car alarm',\n",
       " 'Power windows, electric windows',\n",
       " 'Skidding',\n",
       " 'Tire squeal',\n",
       " 'Car passing by',\n",
       " 'Race car, auto racing',\n",
       " 'Truck',\n",
       " 'Air brake',\n",
       " 'Air horn, truck horn',\n",
       " 'Reversing beeps',\n",
       " 'Ice cream truck, ice cream van',\n",
       " 'Bus',\n",
       " 'Emergency vehicle',\n",
       " 'Police car (siren)',\n",
       " 'Ambulance (siren)',\n",
       " 'Fire engine, fire truck (siren)',\n",
       " 'Motorcycle',\n",
       " 'Traffic noise, roadway noise',\n",
       " 'Rail transport',\n",
       " 'Train',\n",
       " 'Train whistle',\n",
       " 'Train horn',\n",
       " 'Railroad car, train wagon',\n",
       " 'Train wheels squealing',\n",
       " 'Subway, metro, underground',\n",
       " 'Aircraft',\n",
       " 'Aircraft engine',\n",
       " 'Jet engine',\n",
       " 'Propeller, airscrew',\n",
       " 'Helicopter',\n",
       " 'Fixed-wing aircraft, airplane',\n",
       " 'Bicycle',\n",
       " 'Skateboard',\n",
       " 'Engine',\n",
       " 'Light engine (high frequency)',\n",
       " \"Dental drill, dentist's drill\",\n",
       " 'Lawn mower',\n",
       " 'Chainsaw',\n",
       " 'Medium engine (mid frequency)',\n",
       " 'Heavy engine (low frequency)',\n",
       " 'Engine knocking',\n",
       " 'Engine starting',\n",
       " 'Idling',\n",
       " 'Accelerating, revving, vroom',\n",
       " 'Door',\n",
       " 'Doorbell',\n",
       " 'Ding-dong',\n",
       " 'Sliding door',\n",
       " 'Slam',\n",
       " 'Knock',\n",
       " 'Tap',\n",
       " 'Squeak',\n",
       " 'Cupboard open or close',\n",
       " 'Drawer open or close',\n",
       " 'Dishes, pots, and pans',\n",
       " 'Cutlery, silverware',\n",
       " 'Chopping (food)',\n",
       " 'Frying (food)',\n",
       " 'Microwave oven',\n",
       " 'Blender',\n",
       " 'Water tap, faucet',\n",
       " 'Sink (filling or washing)',\n",
       " 'Bathtub (filling or washing)',\n",
       " 'Hair dryer',\n",
       " 'Toilet flush',\n",
       " 'Toothbrush',\n",
       " 'Electric toothbrush',\n",
       " 'Vacuum cleaner',\n",
       " 'Zipper (clothing)',\n",
       " 'Keys jangling',\n",
       " 'Coin (dropping)',\n",
       " 'Scissors',\n",
       " 'Electric shaver, electric razor',\n",
       " 'Shuffling cards',\n",
       " 'Typing',\n",
       " 'Typewriter',\n",
       " 'Computer keyboard',\n",
       " 'Writing',\n",
       " 'Alarm',\n",
       " 'Telephone',\n",
       " 'Telephone bell ringing',\n",
       " 'Ringtone',\n",
       " 'Telephone dialing, DTMF',\n",
       " 'Dial tone',\n",
       " 'Busy signal',\n",
       " 'Alarm clock',\n",
       " 'Siren',\n",
       " 'Civil defense siren',\n",
       " 'Buzzer',\n",
       " 'Smoke detector, smoke alarm',\n",
       " 'Fire alarm',\n",
       " 'Foghorn',\n",
       " 'Whistle',\n",
       " 'Steam whistle',\n",
       " 'Mechanisms',\n",
       " 'Ratchet, pawl',\n",
       " 'Clock',\n",
       " 'Tick',\n",
       " 'Tick-tock',\n",
       " 'Gears',\n",
       " 'Pulleys',\n",
       " 'Sewing machine',\n",
       " 'Mechanical fan',\n",
       " 'Air conditioning',\n",
       " 'Cash register',\n",
       " 'Printer',\n",
       " 'Camera',\n",
       " 'Single-lens reflex camera',\n",
       " 'Tools',\n",
       " 'Hammer',\n",
       " 'Jackhammer',\n",
       " 'Sawing',\n",
       " 'Filing (rasp)',\n",
       " 'Sanding',\n",
       " 'Power tool',\n",
       " 'Drill',\n",
       " 'Explosion',\n",
       " 'Gunshot, gunfire',\n",
       " 'Machine gun',\n",
       " 'Fusillade',\n",
       " 'Artillery fire',\n",
       " 'Cap gun',\n",
       " 'Fireworks',\n",
       " 'Firecracker',\n",
       " 'Burst, pop',\n",
       " 'Eruption',\n",
       " 'Boom',\n",
       " 'Wood',\n",
       " 'Chop',\n",
       " 'Splinter',\n",
       " 'Crack',\n",
       " 'Glass',\n",
       " 'Chink, clink',\n",
       " 'Shatter',\n",
       " 'Liquid',\n",
       " 'Splash, splatter',\n",
       " 'Slosh',\n",
       " 'Squish',\n",
       " 'Drip',\n",
       " 'Pour',\n",
       " 'Trickle, dribble',\n",
       " 'Gush',\n",
       " 'Fill (with liquid)',\n",
       " 'Spray',\n",
       " 'Pump (liquid)',\n",
       " 'Stir',\n",
       " 'Boiling',\n",
       " 'Sonar',\n",
       " 'Arrow',\n",
       " 'Whoosh, swoosh, swish',\n",
       " 'Thump, thud',\n",
       " 'Thunk',\n",
       " 'Electronic tuner',\n",
       " 'Effects unit',\n",
       " 'Chorus effect',\n",
       " 'Basketball bounce',\n",
       " 'Bang',\n",
       " 'Slap, smack',\n",
       " 'Whack, thwack',\n",
       " 'Smash, crash',\n",
       " 'Breaking',\n",
       " 'Bouncing',\n",
       " 'Whip',\n",
       " 'Flap',\n",
       " 'Scratch',\n",
       " 'Scrape',\n",
       " 'Rub',\n",
       " 'Roll',\n",
       " 'Crushing',\n",
       " 'Crumpling, crinkling',\n",
       " 'Tearing',\n",
       " 'Beep, bleep',\n",
       " 'Ping',\n",
       " 'Ding',\n",
       " 'Clang',\n",
       " 'Squeal',\n",
       " 'Creak',\n",
       " 'Rustle',\n",
       " 'Whir',\n",
       " 'Clatter',\n",
       " 'Sizzle',\n",
       " 'Clicking',\n",
       " 'Clickety-clack',\n",
       " 'Rumble',\n",
       " 'Plop',\n",
       " 'Jingle, tinkle',\n",
       " 'Hum',\n",
       " 'Zing',\n",
       " 'Boing',\n",
       " 'Crunch',\n",
       " 'Silence',\n",
       " 'Sine wave',\n",
       " 'Harmonic',\n",
       " 'Chirp tone',\n",
       " 'Sound effect',\n",
       " 'Pulse',\n",
       " 'Inside, small room',\n",
       " 'Inside, large room or hall',\n",
       " 'Inside, public space',\n",
       " 'Outside, urban or manmade',\n",
       " 'Outside, rural or natural',\n",
       " 'Reverberation',\n",
       " 'Echo',\n",
       " 'Noise',\n",
       " 'Environmental noise',\n",
       " 'Static',\n",
       " 'Mains hum',\n",
       " 'Distortion',\n",
       " 'Sidetone',\n",
       " 'Cacophony',\n",
       " 'White noise',\n",
       " 'Pink noise',\n",
       " 'Throbbing',\n",
       " 'Vibration',\n",
       " 'Television',\n",
       " 'Radio',\n",
       " 'Field recording']"
      ]
     },
     "execution_count": 120,
     "metadata": {},
     "output_type": "execute_result"
    }
   ],
   "source": [
    "class_map_path = model.class_map_path().numpy()\n",
    "class_names = class_names_from_csv(tf.io.read_file(class_map_path).numpy().decode('utf-8'))\n",
    "class_names"
   ]
  },
  {
   "cell_type": "code",
   "execution_count": 121,
   "metadata": {},
   "outputs": [],
   "source": [
    "def map_score_to_class(scores):\n",
    "    return class_names[np.argmax(scores.numpy().mean(axis=0))]"
   ]
  },
  {
   "cell_type": "code",
   "execution_count": 122,
   "metadata": {},
   "outputs": [
    {
     "data": {
      "text/plain": [
       "'Silence'"
      ]
     },
     "execution_count": 122,
     "metadata": {},
     "output_type": "execute_result"
    }
   ],
   "source": [
    "map_score_to_class(scores)"
   ]
  },
  {
   "cell_type": "markdown",
   "metadata": {},
   "source": [
    "## Using different audios"
   ]
  },
  {
   "cell_type": "code",
   "execution_count": 123,
   "metadata": {},
   "outputs": [],
   "source": [
    "import librosa\n",
    "import matplotlib.pyplot as plt"
   ]
  },
  {
   "cell_type": "code",
   "execution_count": 124,
   "metadata": {},
   "outputs": [],
   "source": [
    "def load_audio(file_path):\n",
    "    \"\"\"\n",
    "    Carrega um arquivo de áudio MP3 e retorna o waveform e a taxa de amostragem.\n",
    "\n",
    "    Args:\n",
    "    file_path (str): Caminho para o arquivo de áudio MP3.\n",
    "\n",
    "    Returns:\n",
    "    tuple: waveform (np.ndarray), sample_rate (int)\n",
    "    \"\"\"\n",
    "    waveform, sample_rate = librosa.load(file_path, sr=None)\n",
    "    return waveform, sample_rate"
   ]
  },
  {
   "cell_type": "code",
   "execution_count": 125,
   "metadata": {},
   "outputs": [],
   "source": [
    "file_path = 'dog-barking-70772.mp3'\n",
    "waveform, sample_rate = load_audio(file_path)\n",
    "scores, embeddings, log_mel_spectrogram = model(waveform)"
   ]
  },
  {
   "cell_type": "code",
   "execution_count": 126,
   "metadata": {},
   "outputs": [],
   "source": [
    "def plot_top_classes(scores, class_names, top_n=10):\n",
    "    \"\"\"\n",
    "    Plota as top N classes mais prováveis com base nos scores.\n",
    "\n",
    "    Args:\n",
    "    scores (np.ndarray): Vetor de pontuações.\n",
    "    class_names (list): Lista de nomes das classes.\n",
    "    top_n (int): Número de top classes a serem visualizadas.\n",
    "    \"\"\"\n",
    "    mean_scores = scores.mean(axis=0)\n",
    "    top_indices = np.argsort(mean_scores)[-top_n:][::-1]\n",
    "    top_scores = mean_scores[top_indices]\n",
    "    top_class_names = [class_names[i] for i in top_indices]\n",
    "\n",
    "    plt.figure(figsize=(10, 6))\n",
    "    plt.barh(top_class_names, top_scores)\n",
    "    plt.xlabel('Score')\n",
    "    plt.ylabel('Class')\n",
    "    plt.title(f'Top {top_n} Classes')\n",
    "    plt.gca().invert_yaxis()\n",
    "    plt.show()"
   ]
  },
  {
   "cell_type": "code",
   "execution_count": 127,
   "metadata": {},
   "outputs": [
    {
     "data": {
      "image/png": "[encoded data removed]",
      "text/plain": [
       "<Figure size 1000x600 with 1 Axes>"
      ]
     },
     "metadata": {},
     "output_type": "display_data"
    }
   ],
   "source": [
    "plot_top_classes(scores.numpy(), class_names)"
   ]
  },
  {
   "cell_type": "markdown",
   "metadata": {},
   "source": [
    "## Loading a new dataset\n",
    "This dataset has audio examples that are specific for our security problem."
   ]
  },
  {
   "cell_type": "code",
   "execution_count": 128,
   "metadata": {},
   "outputs": [],
   "source": [
    "_ = tf.keras.utils.get_file('esc-50.zip',\n",
    "                        'https://github.com/karoldvl/ESC-50/archive/master.zip',\n",
    "                        cache_dir='./',\n",
    "                        cache_subdir='datasets',\n",
    "                        extract=True)"
   ]
  },
  {
   "cell_type": "code",
   "execution_count": 129,
   "metadata": {},
   "outputs": [],
   "source": [
    "esc50_csv = './datasets/ESC-50-master/meta/esc50.csv'\n",
    "base_data_path = './datasets/ESC-50-master/audio/'"
   ]
  },
  {
   "cell_type": "code",
   "execution_count": 130,
   "metadata": {},
   "outputs": [
    {
     "data": {
      "text/html": [
       "<div>\n",
       "<style scoped>\n",
       "    .dataframe tbody tr th:only-of-type {\n",
       "        vertical-align: middle;\n",
       "    }\n",
       "\n",
       "    .dataframe tbody tr th {\n",
       "        vertical-align: top;\n",
       "    }\n",
       "\n",
       "    .dataframe thead th {\n",
       "        text-align: right;\n",
       "    }\n",
       "</style>\n",
       "<table border=\"1\" class=\"dataframe\">\n",
       "  <thead>\n",
       "    <tr style=\"text-align: right;\">\n",
       "      <th></th>\n",
       "      <th>filename</th>\n",
       "      <th>fold</th>\n",
       "      <th>target</th>\n",
       "      <th>category</th>\n",
       "      <th>esc10</th>\n",
       "      <th>src_file</th>\n",
       "      <th>take</th>\n",
       "    </tr>\n",
       "  </thead>\n",
       "  <tbody>\n",
       "    <tr>\n",
       "      <th>0</th>\n",
       "      <td>1-100032-A-0.wav</td>\n",
       "      <td>1</td>\n",
       "      <td>0</td>\n",
       "      <td>dog</td>\n",
       "      <td>True</td>\n",
       "      <td>100032</td>\n",
       "      <td>A</td>\n",
       "    </tr>\n",
       "    <tr>\n",
       "      <th>1</th>\n",
       "      <td>1-100038-A-14.wav</td>\n",
       "      <td>1</td>\n",
       "      <td>14</td>\n",
       "      <td>chirping_birds</td>\n",
       "      <td>False</td>\n",
       "      <td>100038</td>\n",
       "      <td>A</td>\n",
       "    </tr>\n",
       "    <tr>\n",
       "      <th>2</th>\n",
       "      <td>1-100210-A-36.wav</td>\n",
       "      <td>1</td>\n",
       "      <td>36</td>\n",
       "      <td>vacuum_cleaner</td>\n",
       "      <td>False</td>\n",
       "      <td>100210</td>\n",
       "      <td>A</td>\n",
       "    </tr>\n",
       "    <tr>\n",
       "      <th>3</th>\n",
       "      <td>1-100210-B-36.wav</td>\n",
       "      <td>1</td>\n",
       "      <td>36</td>\n",
       "      <td>vacuum_cleaner</td>\n",
       "      <td>False</td>\n",
       "      <td>100210</td>\n",
       "      <td>B</td>\n",
       "    </tr>\n",
       "    <tr>\n",
       "      <th>4</th>\n",
       "      <td>1-101296-A-19.wav</td>\n",
       "      <td>1</td>\n",
       "      <td>19</td>\n",
       "      <td>thunderstorm</td>\n",
       "      <td>False</td>\n",
       "      <td>101296</td>\n",
       "      <td>A</td>\n",
       "    </tr>\n",
       "  </tbody>\n",
       "</table>\n",
       "</div>"
      ],
      "text/plain": [
       "            filename  fold  target        category  esc10  src_file take\n",
       "0   1-100032-A-0.wav     1       0             dog   True    100032    A\n",
       "1  1-100038-A-14.wav     1      14  chirping_birds  False    100038    A\n",
       "2  1-100210-A-36.wav     1      36  vacuum_cleaner  False    100210    A\n",
       "3  1-100210-B-36.wav     1      36  vacuum_cleaner  False    100210    B\n",
       "4  1-101296-A-19.wav     1      19    thunderstorm  False    101296    A"
      ]
     },
     "execution_count": 130,
     "metadata": {},
     "output_type": "execute_result"
    }
   ],
   "source": [
    "df = pd.read_csv(esc50_csv)\n",
    "df.head()"
   ]
  },
  {
   "cell_type": "code",
   "execution_count": 131,
   "metadata": {},
   "outputs": [
    {
     "data": {
      "text/plain": [
       "array(['dog', 'chirping_birds', 'vacuum_cleaner', 'thunderstorm',\n",
       "       'door_wood_knock', 'can_opening', 'crow', 'clapping', 'fireworks',\n",
       "       'chainsaw', 'airplane', 'mouse_click', 'pouring_water', 'train',\n",
       "       'sheep', 'water_drops', 'church_bells', 'clock_alarm',\n",
       "       'keyboard_typing', 'wind', 'footsteps', 'frog', 'cow',\n",
       "       'brushing_teeth', 'car_horn', 'crackling_fire', 'helicopter',\n",
       "       'drinking_sipping', 'rain', 'insects', 'laughing', 'hen', 'engine',\n",
       "       'breathing', 'crying_baby', 'hand_saw', 'coughing',\n",
       "       'glass_breaking', 'snoring', 'toilet_flush', 'pig',\n",
       "       'washing_machine', 'clock_tick', 'sneezing', 'rooster',\n",
       "       'sea_waves', 'siren', 'cat', 'door_wood_creaks', 'crickets'],\n",
       "      dtype=object)"
      ]
     },
     "execution_count": 131,
     "metadata": {},
     "output_type": "execute_result"
    }
   ],
   "source": [
    "df['category'].unique()"
   ]
  },
  {
   "cell_type": "code",
   "execution_count": 132,
   "metadata": {},
   "outputs": [],
   "source": [
    "classes = ['dog', 'door_wood_creaks', 'glass_breaking']\n",
    "mapeamento = {'dog':0, 'door_wood_creaks':1,'glass_breaking':2}"
   ]
  },
  {
   "cell_type": "code",
   "execution_count": 133,
   "metadata": {},
   "outputs": [
    {
     "data": {
      "text/html": [
       "<div>\n",
       "<style scoped>\n",
       "    .dataframe tbody tr th:only-of-type {\n",
       "        vertical-align: middle;\n",
       "    }\n",
       "\n",
       "    .dataframe tbody tr th {\n",
       "        vertical-align: top;\n",
       "    }\n",
       "\n",
       "    .dataframe thead th {\n",
       "        text-align: right;\n",
       "    }\n",
       "</style>\n",
       "<table border=\"1\" class=\"dataframe\">\n",
       "  <thead>\n",
       "    <tr style=\"text-align: right;\">\n",
       "      <th></th>\n",
       "      <th>filename</th>\n",
       "      <th>fold</th>\n",
       "      <th>target</th>\n",
       "      <th>category</th>\n",
       "      <th>esc10</th>\n",
       "      <th>src_file</th>\n",
       "      <th>take</th>\n",
       "    </tr>\n",
       "  </thead>\n",
       "  <tbody>\n",
       "    <tr>\n",
       "      <th>0</th>\n",
       "      <td>1-100032-A-0.wav</td>\n",
       "      <td>1</td>\n",
       "      <td>0</td>\n",
       "      <td>dog</td>\n",
       "      <td>True</td>\n",
       "      <td>100032</td>\n",
       "      <td>A</td>\n",
       "    </tr>\n",
       "    <tr>\n",
       "      <th>14</th>\n",
       "      <td>1-110389-A-0.wav</td>\n",
       "      <td>1</td>\n",
       "      <td>0</td>\n",
       "      <td>dog</td>\n",
       "      <td>True</td>\n",
       "      <td>110389</td>\n",
       "      <td>A</td>\n",
       "    </tr>\n",
       "    <tr>\n",
       "      <th>95</th>\n",
       "      <td>1-20133-A-39.wav</td>\n",
       "      <td>1</td>\n",
       "      <td>39</td>\n",
       "      <td>glass_breaking</td>\n",
       "      <td>False</td>\n",
       "      <td>20133</td>\n",
       "      <td>A</td>\n",
       "    </tr>\n",
       "    <tr>\n",
       "      <th>157</th>\n",
       "      <td>1-30226-A-0.wav</td>\n",
       "      <td>1</td>\n",
       "      <td>0</td>\n",
       "      <td>dog</td>\n",
       "      <td>True</td>\n",
       "      <td>30226</td>\n",
       "      <td>A</td>\n",
       "    </tr>\n",
       "    <tr>\n",
       "      <th>158</th>\n",
       "      <td>1-30344-A-0.wav</td>\n",
       "      <td>1</td>\n",
       "      <td>0</td>\n",
       "      <td>dog</td>\n",
       "      <td>True</td>\n",
       "      <td>30344</td>\n",
       "      <td>A</td>\n",
       "    </tr>\n",
       "    <tr>\n",
       "      <th>...</th>\n",
       "      <td>...</td>\n",
       "      <td>...</td>\n",
       "      <td>...</td>\n",
       "      <td>...</td>\n",
       "      <td>...</td>\n",
       "      <td>...</td>\n",
       "      <td>...</td>\n",
       "    </tr>\n",
       "    <tr>\n",
       "      <th>1971</th>\n",
       "      <td>5-257642-A-39.wav</td>\n",
       "      <td>5</td>\n",
       "      <td>39</td>\n",
       "      <td>glass_breaking</td>\n",
       "      <td>False</td>\n",
       "      <td>257642</td>\n",
       "      <td>A</td>\n",
       "    </tr>\n",
       "    <tr>\n",
       "      <th>1979</th>\n",
       "      <td>5-260432-A-39.wav</td>\n",
       "      <td>5</td>\n",
       "      <td>39</td>\n",
       "      <td>glass_breaking</td>\n",
       "      <td>False</td>\n",
       "      <td>260432</td>\n",
       "      <td>A</td>\n",
       "    </tr>\n",
       "    <tr>\n",
       "      <th>1980</th>\n",
       "      <td>5-260433-A-39.wav</td>\n",
       "      <td>5</td>\n",
       "      <td>39</td>\n",
       "      <td>glass_breaking</td>\n",
       "      <td>False</td>\n",
       "      <td>260433</td>\n",
       "      <td>A</td>\n",
       "    </tr>\n",
       "    <tr>\n",
       "      <th>1981</th>\n",
       "      <td>5-260434-A-39.wav</td>\n",
       "      <td>5</td>\n",
       "      <td>39</td>\n",
       "      <td>glass_breaking</td>\n",
       "      <td>False</td>\n",
       "      <td>260434</td>\n",
       "      <td>A</td>\n",
       "    </tr>\n",
       "    <tr>\n",
       "      <th>1999</th>\n",
       "      <td>5-9032-A-0.wav</td>\n",
       "      <td>5</td>\n",
       "      <td>0</td>\n",
       "      <td>dog</td>\n",
       "      <td>True</td>\n",
       "      <td>9032</td>\n",
       "      <td>A</td>\n",
       "    </tr>\n",
       "  </tbody>\n",
       "</table>\n",
       "<p>120 rows × 7 columns</p>\n",
       "</div>"
      ],
      "text/plain": [
       "               filename  fold  target        category  esc10  src_file take\n",
       "0      1-100032-A-0.wav     1       0             dog   True    100032    A\n",
       "14     1-110389-A-0.wav     1       0             dog   True    110389    A\n",
       "95     1-20133-A-39.wav     1      39  glass_breaking  False     20133    A\n",
       "157     1-30226-A-0.wav     1       0             dog   True     30226    A\n",
       "158     1-30344-A-0.wav     1       0             dog   True     30344    A\n",
       "...                 ...   ...     ...             ...    ...       ...  ...\n",
       "1971  5-257642-A-39.wav     5      39  glass_breaking  False    257642    A\n",
       "1979  5-260432-A-39.wav     5      39  glass_breaking  False    260432    A\n",
       "1980  5-260433-A-39.wav     5      39  glass_breaking  False    260433    A\n",
       "1981  5-260434-A-39.wav     5      39  glass_breaking  False    260434    A\n",
       "1999     5-9032-A-0.wav     5       0             dog   True      9032    A\n",
       "\n",
       "[120 rows x 7 columns]"
      ]
     },
     "execution_count": 133,
     "metadata": {},
     "output_type": "execute_result"
    }
   ],
   "source": [
    "df_filtrado = df[df['category'].isin(classes)]\n",
    "df_filtrado"
   ]
  },
  {
   "cell_type": "code",
   "execution_count": 134,
   "metadata": {},
   "outputs": [
    {
     "name": "stderr",
     "output_type": "stream",
     "text": [
      "/tmp/ipykernel_1641/2139507846.py:2: SettingWithCopyWarning: \n",
      "A value is trying to be set on a copy of a slice from a DataFrame.\n",
      "Try using .loc[row_indexer,col_indexer] = value instead\n",
      "\n",
      "See the caveats in the documentation: https://pandas.pydata.org/pandas-docs/stable/user_guide/indexing.html#returning-a-view-versus-a-copy\n",
      "  df_filtrado.loc[:, 'alvo'] = df_filtrado['category'].apply(lambda name: mapeamento[name])\n"
     ]
    },
    {
     "data": {
      "text/html": [
       "<div>\n",
       "<style scoped>\n",
       "    .dataframe tbody tr th:only-of-type {\n",
       "        vertical-align: middle;\n",
       "    }\n",
       "\n",
       "    .dataframe tbody tr th {\n",
       "        vertical-align: top;\n",
       "    }\n",
       "\n",
       "    .dataframe thead th {\n",
       "        text-align: right;\n",
       "    }\n",
       "</style>\n",
       "<table border=\"1\" class=\"dataframe\">\n",
       "  <thead>\n",
       "    <tr style=\"text-align: right;\">\n",
       "      <th></th>\n",
       "      <th>filename</th>\n",
       "      <th>fold</th>\n",
       "      <th>target</th>\n",
       "      <th>category</th>\n",
       "      <th>esc10</th>\n",
       "      <th>src_file</th>\n",
       "      <th>take</th>\n",
       "      <th>alvo</th>\n",
       "    </tr>\n",
       "  </thead>\n",
       "  <tbody>\n",
       "    <tr>\n",
       "      <th>0</th>\n",
       "      <td>./datasets/ESC-50-master/audio/1-100032-A-0.wav</td>\n",
       "      <td>1</td>\n",
       "      <td>0</td>\n",
       "      <td>dog</td>\n",
       "      <td>True</td>\n",
       "      <td>100032</td>\n",
       "      <td>A</td>\n",
       "      <td>0</td>\n",
       "    </tr>\n",
       "    <tr>\n",
       "      <th>14</th>\n",
       "      <td>./datasets/ESC-50-master/audio/1-110389-A-0.wav</td>\n",
       "      <td>1</td>\n",
       "      <td>0</td>\n",
       "      <td>dog</td>\n",
       "      <td>True</td>\n",
       "      <td>110389</td>\n",
       "      <td>A</td>\n",
       "      <td>0</td>\n",
       "    </tr>\n",
       "    <tr>\n",
       "      <th>95</th>\n",
       "      <td>./datasets/ESC-50-master/audio/1-20133-A-39.wav</td>\n",
       "      <td>1</td>\n",
       "      <td>39</td>\n",
       "      <td>glass_breaking</td>\n",
       "      <td>False</td>\n",
       "      <td>20133</td>\n",
       "      <td>A</td>\n",
       "      <td>2</td>\n",
       "    </tr>\n",
       "    <tr>\n",
       "      <th>157</th>\n",
       "      <td>./datasets/ESC-50-master/audio/1-30226-A-0.wav</td>\n",
       "      <td>1</td>\n",
       "      <td>0</td>\n",
       "      <td>dog</td>\n",
       "      <td>True</td>\n",
       "      <td>30226</td>\n",
       "      <td>A</td>\n",
       "      <td>0</td>\n",
       "    </tr>\n",
       "    <tr>\n",
       "      <th>158</th>\n",
       "      <td>./datasets/ESC-50-master/audio/1-30344-A-0.wav</td>\n",
       "      <td>1</td>\n",
       "      <td>0</td>\n",
       "      <td>dog</td>\n",
       "      <td>True</td>\n",
       "      <td>30344</td>\n",
       "      <td>A</td>\n",
       "      <td>0</td>\n",
       "    </tr>\n",
       "    <tr>\n",
       "      <th>...</th>\n",
       "      <td>...</td>\n",
       "      <td>...</td>\n",
       "      <td>...</td>\n",
       "      <td>...</td>\n",
       "      <td>...</td>\n",
       "      <td>...</td>\n",
       "      <td>...</td>\n",
       "      <td>...</td>\n",
       "    </tr>\n",
       "    <tr>\n",
       "      <th>1971</th>\n",
       "      <td>./datasets/ESC-50-master/audio/5-257642-A-39.wav</td>\n",
       "      <td>5</td>\n",
       "      <td>39</td>\n",
       "      <td>glass_breaking</td>\n",
       "      <td>False</td>\n",
       "      <td>257642</td>\n",
       "      <td>A</td>\n",
       "      <td>2</td>\n",
       "    </tr>\n",
       "    <tr>\n",
       "      <th>1979</th>\n",
       "      <td>./datasets/ESC-50-master/audio/5-260432-A-39.wav</td>\n",
       "      <td>5</td>\n",
       "      <td>39</td>\n",
       "      <td>glass_breaking</td>\n",
       "      <td>False</td>\n",
       "      <td>260432</td>\n",
       "      <td>A</td>\n",
       "      <td>2</td>\n",
       "    </tr>\n",
       "    <tr>\n",
       "      <th>1980</th>\n",
       "      <td>./datasets/ESC-50-master/audio/5-260433-A-39.wav</td>\n",
       "      <td>5</td>\n",
       "      <td>39</td>\n",
       "      <td>glass_breaking</td>\n",
       "      <td>False</td>\n",
       "      <td>260433</td>\n",
       "      <td>A</td>\n",
       "      <td>2</td>\n",
       "    </tr>\n",
       "    <tr>\n",
       "      <th>1981</th>\n",
       "      <td>./datasets/ESC-50-master/audio/5-260434-A-39.wav</td>\n",
       "      <td>5</td>\n",
       "      <td>39</td>\n",
       "      <td>glass_breaking</td>\n",
       "      <td>False</td>\n",
       "      <td>260434</td>\n",
       "      <td>A</td>\n",
       "      <td>2</td>\n",
       "    </tr>\n",
       "    <tr>\n",
       "      <th>1999</th>\n",
       "      <td>./datasets/ESC-50-master/audio/5-9032-A-0.wav</td>\n",
       "      <td>5</td>\n",
       "      <td>0</td>\n",
       "      <td>dog</td>\n",
       "      <td>True</td>\n",
       "      <td>9032</td>\n",
       "      <td>A</td>\n",
       "      <td>0</td>\n",
       "    </tr>\n",
       "  </tbody>\n",
       "</table>\n",
       "<p>120 rows × 8 columns</p>\n",
       "</div>"
      ],
      "text/plain": [
       "                                              filename  fold  target  \\\n",
       "0      ./datasets/ESC-50-master/audio/1-100032-A-0.wav     1       0   \n",
       "14     ./datasets/ESC-50-master/audio/1-110389-A-0.wav     1       0   \n",
       "95     ./datasets/ESC-50-master/audio/1-20133-A-39.wav     1      39   \n",
       "157     ./datasets/ESC-50-master/audio/1-30226-A-0.wav     1       0   \n",
       "158     ./datasets/ESC-50-master/audio/1-30344-A-0.wav     1       0   \n",
       "...                                                ...   ...     ...   \n",
       "1971  ./datasets/ESC-50-master/audio/5-257642-A-39.wav     5      39   \n",
       "1979  ./datasets/ESC-50-master/audio/5-260432-A-39.wav     5      39   \n",
       "1980  ./datasets/ESC-50-master/audio/5-260433-A-39.wav     5      39   \n",
       "1981  ./datasets/ESC-50-master/audio/5-260434-A-39.wav     5      39   \n",
       "1999     ./datasets/ESC-50-master/audio/5-9032-A-0.wav     5       0   \n",
       "\n",
       "            category  esc10  src_file take  alvo  \n",
       "0                dog   True    100032    A     0  \n",
       "14               dog   True    110389    A     0  \n",
       "95    glass_breaking  False     20133    A     2  \n",
       "157              dog   True     30226    A     0  \n",
       "158              dog   True     30344    A     0  \n",
       "...              ...    ...       ...  ...   ...  \n",
       "1971  glass_breaking  False    257642    A     2  \n",
       "1979  glass_breaking  False    260432    A     2  \n",
       "1980  glass_breaking  False    260433    A     2  \n",
       "1981  glass_breaking  False    260434    A     2  \n",
       "1999             dog   True      9032    A     0  \n",
       "\n",
       "[120 rows x 8 columns]"
      ]
     },
     "execution_count": 134,
     "metadata": {},
     "output_type": "execute_result"
    }
   ],
   "source": [
    "# Aplicar o mapeamento usando loc\n",
    "df_filtrado.loc[:, 'alvo'] = df_filtrado['category'].apply(lambda name: mapeamento[name])\n",
    "full_path = df_filtrado['filename'].apply(lambda row: os.path.join(base_data_path, row))\n",
    "df_filtrado = df_filtrado.assign(filename=full_path)\n",
    "df_filtrado"
   ]
  },
  {
   "cell_type": "markdown",
   "metadata": {},
   "source": [
    "## Preprocessing"
   ]
  },
  {
   "cell_type": "code",
   "execution_count": 135,
   "metadata": {},
   "outputs": [],
   "source": [
    "from scipy.signal import resample\n",
    "\n",
    "def load_and_process_audio(filename, max_length=16000):\n",
    "    file_contents = tf.io.read_file(filename)\n",
    "    wav, sample_rate = tf.audio.decode_wav(file_contents, desired_channels=1)\n",
    "    wav = tf.squeeze(wav, axis=-1)\n",
    "    \n",
    "    def scipy_resample(wav, sample_rate):\n",
    "        if sample_rate != 16000:\n",
    "            wav = resample(wav, int(16000 / sample_rate * len(wav)))\n",
    "        return wav\n",
    "    \n",
    "    wav = tf.py_function(scipy_resample, [wav, sample_rate], tf.float32)\n",
    "    \n",
    "    audio_length = tf.shape(wav)[0]\n",
    "    if audio_length > max_length:\n",
    "        wav = wav[:max_length]\n",
    "    else:\n",
    "        pad_length = max_length - audio_length\n",
    "        paddings = [[0, pad_length]]\n",
    "        wav = tf.pad(wav, paddings, 'CONSTANT')\n",
    "        \n",
    "    return tf.reshape(wav, [max_length])"
   ]
  },
  {
   "cell_type": "code",
   "execution_count": 136,
   "metadata": {},
   "outputs": [],
   "source": [
    "def process_path(file_path, label, fold):\n",
    "    audio = load_and_process_audio(file_path)\n",
    "    label = tf.cast(label, tf.int64)\n",
    "    fold = tf.cast(fold, tf.int64)\n",
    "    return audio, label, fold"
   ]
  },
  {
   "cell_type": "code",
   "execution_count": 137,
   "metadata": {},
   "outputs": [],
   "source": [
    "# Builds a Tensorflow Dataset\n",
    "def paths_labels_folds_to_dataset(audio_paths, labels, folds):\n",
    "    path_ds = tf.data.Dataset.from_tensor_slices(audio_paths)\n",
    "    label_ds = tf.data.Dataset.from_tensor_slices(labels)\n",
    "    fold_ds = tf.data.Dataset.from_tensor_slices(folds)\n",
    "    audio_label_fold_ds = tf.data.Dataset.zip((path_ds, label_ds, fold_ds))\n",
    "    return audio_label_fold_ds.map(lambda path, label, fold: tf.py_function(\n",
    "        func=process_path, inp=[path, label, fold], Tout=[tf.float32, tf.int64, tf.int64]), num_parallel_calls=tf.data.AUTOTUNE)"
   ]
  },
  {
   "cell_type": "code",
   "execution_count": 138,
   "metadata": {},
   "outputs": [],
   "source": [
    "def prepare_for_training(ds, batch_size=32, shuffle_buffer_size=1000):\n",
    "    ds = ds.shuffle(buffer_size=shuffle_buffer_size)\n",
    "    ds = ds.batch(batch_size)\n",
    "    #ds = ds.repeat(repeat_count)  # adding repeat\n",
    "    ds = ds.prefetch(buffer_size=tf.data.AUTOTUNE)\n",
    "    return ds"
   ]
  },
  {
   "cell_type": "code",
   "execution_count": 139,
   "metadata": {},
   "outputs": [],
   "source": [
    "# Loading the data from the dataframe\n",
    "audio_paths = df_filtrado['filename'].tolist()\n",
    "labels = df_filtrado['alvo'].tolist()\n",
    "folds = df['fold'].tolist()"
   ]
  },
  {
   "cell_type": "code",
   "execution_count": 140,
   "metadata": {},
   "outputs": [],
   "source": [
    "complete_dataset = paths_labels_folds_to_dataset(audio_paths, labels, folds)"
   ]
  },
  {
   "cell_type": "markdown",
   "metadata": {},
   "source": [
    "## Transfer Learning"
   ]
  },
  {
   "cell_type": "code",
   "execution_count": 141,
   "metadata": {},
   "outputs": [],
   "source": [
    "def extract_embedding(wav_data, label, fold):\n",
    "    ''' run YAMNet to extract embedding from the wav data '''\n",
    "    _, embeddings, _ = model(wav_data)\n",
    "    num_embeddings = tf.shape(embeddings)[0]\n",
    "    return (embeddings,\n",
    "            tf.repeat(label, num_embeddings),\n",
    "            tf.repeat(fold, num_embeddings))"
   ]
  },
  {
   "cell_type": "code",
   "execution_count": 142,
   "metadata": {},
   "outputs": [],
   "source": [
    "complete_dataset = complete_dataset.map(extract_embedding).unbatch()"
   ]
  },
  {
   "cell_type": "code",
   "execution_count": 143,
   "metadata": {},
   "outputs": [],
   "source": [
    "train_dataset = complete_dataset.filter(lambda audio, label, fold: fold < 5)  # folds 0-4 for training\n",
    "val_dataset = complete_dataset.filter(lambda audio, label, fold: fold == 5)   # fold 5 for validation\n",
    "\n",
    "train_dataset = prepare_for_training(train_dataset)\n",
    "val_dataset = prepare_for_training(val_dataset)"
   ]
  },
  {
   "cell_type": "markdown",
   "metadata": {},
   "source": [
    "## Building our model"
   ]
  },
  {
   "cell_type": "code",
   "execution_count": 144,
   "metadata": {},
   "outputs": [
    {
     "name": "stdout",
     "output_type": "stream",
     "text": [
      "Audio shape: (16000,)\n",
      "Label: 0\n",
      "Fold: 1\n",
      "Embeddings shape: (1024,)\n",
      "Label: 0\n",
      "Fold: 1\n",
      "(TensorSpec(shape=(None, 1024), dtype=tf.float32, name=None), TensorSpec(shape=(None,), dtype=tf.int64, name=None), TensorSpec(shape=(None,), dtype=tf.int64, name=None))\n",
      "(TensorSpec(shape=(None, 1024), dtype=tf.float32, name=None), TensorSpec(shape=(None,), dtype=tf.int64, name=None), TensorSpec(shape=(None,), dtype=tf.int64, name=None))\n"
     ]
    },
    {
     "data": {
      "text/html": [
       "<pre style=\"white-space:pre;overflow-x:auto;line-height:normal;font-family:Menlo,'DejaVu Sans Mono',consolas,'Courier New',monospace\"><span style=\"font-weight: bold\">Model: \"sequential\"</span>\n",
       "</pre>\n"
      ],
      "text/plain": [
       "\u001b[1mModel: \"sequential\"\u001b[0m\n"
      ]
     },
     "metadata": {},
     "output_type": "display_data"
    },
    {
     "data": {
      "text/html": [
       "<pre style=\"white-space:pre;overflow-x:auto;line-height:normal;font-family:Menlo,'DejaVu Sans Mono',consolas,'Courier New',monospace\">┏━━━━━━━━━━━━━━━━━━━━━━━━━━━━━━━━━┳━━━━━━━━━━━━━━━━━━━━━━━━┳━━━━━━━━━━━━━━━┓\n",
       "┃<span style=\"font-weight: bold\"> Layer (type)                    </span>┃<span style=\"font-weight: bold\"> Output Shape           </span>┃<span style=\"font-weight: bold\">       Param # </span>┃\n",
       "┡━━━━━━━━━━━━━━━━━━━━━━━━━━━━━━━━━╇━━━━━━━━━━━━━━━━━━━━━━━━╇━━━━━━━━━━━━━━━┩\n",
       "│ dense (<span style=\"color: #0087ff; text-decoration-color: #0087ff\">Dense</span>)                   │ (<span style=\"color: #00d7ff; text-decoration-color: #00d7ff\">None</span>, <span style=\"color: #00af00; text-decoration-color: #00af00\">512</span>)            │       <span style=\"color: #00af00; text-decoration-color: #00af00\">524,800</span> │\n",
       "├─────────────────────────────────┼────────────────────────┼───────────────┤\n",
       "│ dense_1 (<span style=\"color: #0087ff; text-decoration-color: #0087ff\">Dense</span>)                 │ (<span style=\"color: #00d7ff; text-decoration-color: #00d7ff\">None</span>, <span style=\"color: #00af00; text-decoration-color: #00af00\">3</span>)              │         <span style=\"color: #00af00; text-decoration-color: #00af00\">1,539</span> │\n",
       "└─────────────────────────────────┴────────────────────────┴───────────────┘\n",
       "</pre>\n"
      ],
      "text/plain": [
       "┏━━━━━━━━━━━━━━━━━━━━━━━━━━━━━━━━━┳━━━━━━━━━━━━━━━━━━━━━━━━┳━━━━━━━━━━━━━━━┓\n",
       "┃\u001b[1m \u001b[0m\u001b[1mLayer (type)                   \u001b[0m\u001b[1m \u001b[0m┃\u001b[1m \u001b[0m\u001b[1mOutput Shape          \u001b[0m\u001b[1m \u001b[0m┃\u001b[1m \u001b[0m\u001b[1m      Param #\u001b[0m\u001b[1m \u001b[0m┃\n",
       "┡━━━━━━━━━━━━━━━━━━━━━━━━━━━━━━━━━╇━━━━━━━━━━━━━━━━━━━━━━━━╇━━━━━━━━━━━━━━━┩\n",
       "│ dense (\u001b[38;5;33mDense\u001b[0m)                   │ (\u001b[38;5;45mNone\u001b[0m, \u001b[38;5;34m512\u001b[0m)            │       \u001b[38;5;34m524,800\u001b[0m │\n",
       "├─────────────────────────────────┼────────────────────────┼───────────────┤\n",
       "│ dense_1 (\u001b[38;5;33mDense\u001b[0m)                 │ (\u001b[38;5;45mNone\u001b[0m, \u001b[38;5;34m3\u001b[0m)              │         \u001b[38;5;34m1,539\u001b[0m │\n",
       "└─────────────────────────────────┴────────────────────────┴───────────────┘\n"
      ]
     },
     "metadata": {},
     "output_type": "display_data"
    },
    {
     "data": {
      "text/html": [
       "<pre style=\"white-space:pre;overflow-x:auto;line-height:normal;font-family:Menlo,'DejaVu Sans Mono',consolas,'Courier New',monospace\"><span style=\"font-weight: bold\"> Total params: </span><span style=\"color: #00af00; text-decoration-color: #00af00\">526,339</span> (2.01 MB)\n",
       "</pre>\n"
      ],
      "text/plain": [
       "\u001b[1m Total params: \u001b[0m\u001b[38;5;34m526,339\u001b[0m (2.01 MB)\n"
      ]
     },
     "metadata": {},
     "output_type": "display_data"
    },
    {
     "data": {
      "text/html": [
       "<pre style=\"white-space:pre;overflow-x:auto;line-height:normal;font-family:Menlo,'DejaVu Sans Mono',consolas,'Courier New',monospace\"><span style=\"font-weight: bold\"> Trainable params: </span><span style=\"color: #00af00; text-decoration-color: #00af00\">526,339</span> (2.01 MB)\n",
       "</pre>\n"
      ],
      "text/plain": [
       "\u001b[1m Trainable params: \u001b[0m\u001b[38;5;34m526,339\u001b[0m (2.01 MB)\n"
      ]
     },
     "metadata": {},
     "output_type": "display_data"
    },
    {
     "data": {
      "text/html": [
       "<pre style=\"white-space:pre;overflow-x:auto;line-height:normal;font-family:Menlo,'DejaVu Sans Mono',consolas,'Courier New',monospace\"><span style=\"font-weight: bold\"> Non-trainable params: </span><span style=\"color: #00af00; text-decoration-color: #00af00\">0</span> (0.00 B)\n",
       "</pre>\n"
      ],
      "text/plain": [
       "\u001b[1m Non-trainable params: \u001b[0m\u001b[38;5;34m0\u001b[0m (0.00 B)\n"
      ]
     },
     "metadata": {},
     "output_type": "display_data"
    },
    {
     "name": "stdout",
     "output_type": "stream",
     "text": [
      "Epoch 1/20\n"
     ]
    },
    {
     "name": "stderr",
     "output_type": "stream",
     "text": [
      "WARNING: All log messages before absl::InitializeLog() is called are written to STDERR\n",
      "I0000 00:00:1727361533.149757    2322 service.cc:146] XLA service 0x7f53e4005c30 initialized for platform CUDA (this does not guarantee that XLA will be used). Devices:\n",
      "I0000 00:00:1727361533.149919    2322 service.cc:154]   StreamExecutor device (0): NVIDIA L4, Compute Capability 8.9\n",
      "2024-09-26 14:38:53.199870: I tensorflow/compiler/mlir/tensorflow/utils/dump_mlir_util.cc:268] disabling MLIR crash reproducer, set env var `MLIR_CRASH_REPRODUCER_DIRECTORY` to enable.\n",
      "2024-09-26 14:38:53.908528: I external/local_xla/xla/stream_executor/cuda/cuda_asm_compiler.cc:393] ptxas warning : Registers are spilled to local memory in function 'gemm_fusion_dot_111', 4 bytes spill stores, 4 bytes spill loads\n",
      "\n"
     ]
    },
    {
     "name": "stdout",
     "output_type": "stream",
     "text": [
      "      1/Unknown \u001b[1m3s\u001b[0m 3s/step - accuracy: 0.3438 - loss: 2.8738"
     ]
    },
    {
     "name": "stderr",
     "output_type": "stream",
     "text": [
      "I0000 00:00:1727361534.914767    2322 device_compiler.h:188] Compiled cluster using XLA!  This line is logged at most once for the lifetime of the process.\n",
      "2024-09-26 14:38:54.927598: I tensorflow/core/framework/local_rendezvous.cc:423] Local rendezvous recv item cancelled. Key hash: 17171313441932229212\n",
      "2024-09-26 14:38:54.927640: I tensorflow/core/framework/local_rendezvous.cc:423] Local rendezvous recv item cancelled. Key hash: 8078176627876363934\n",
      "2024-09-26 14:38:54.927656: I tensorflow/core/framework/local_rendezvous.cc:423] Local rendezvous recv item cancelled. Key hash: 3047218368728456900\n",
      "/home/zeus/miniconda3/envs/cloudspace/lib/python3.10/contextlib.py:153: UserWarning: Your input ran out of data; interrupting training. Make sure that your dataset or generator can generate at least `steps_per_epoch * epochs` batches. You may need to use the `.repeat()` function when building your dataset.\n",
      "  self.gen.throw(typ, value, traceback)\n"
     ]
    },
    {
     "name": "stdout",
     "output_type": "stream",
     "text": [
      "\u001b[1m6/6\u001b[0m \u001b[32m━━━━━━━━━━━━━━━━━━━━\u001b[0m\u001b[37m\u001b[0m \u001b[1m6s\u001b[0m 487ms/step - accuracy: 0.6403 - loss: 1.9776 - val_accuracy: 0.9792 - val_loss: 1.0017\n",
      "Epoch 2/20\n"
     ]
    },
    {
     "name": "stderr",
     "output_type": "stream",
     "text": [
      "2024-09-26 14:38:57.341165: I tensorflow/core/framework/local_rendezvous.cc:423] Local rendezvous recv item cancelled. Key hash: 17171313441932229212\n",
      "2024-09-26 14:38:57.341214: I tensorflow/core/framework/local_rendezvous.cc:423] Local rendezvous recv item cancelled. Key hash: 3047218368728456900\n",
      "2024-09-26 14:38:57.341236: I tensorflow/core/framework/local_rendezvous.cc:423] Local rendezvous recv item cancelled. Key hash: 8078176627876363934\n"
     ]
    },
    {
     "name": "stdout",
     "output_type": "stream",
     "text": [
      "\u001b[1m1/6\u001b[0m \u001b[32m━━━\u001b[0m\u001b[37m━━━━━━━━━━━━━━━━━\u001b[0m \u001b[1m5s\u001b[0m 1s/step - accuracy: 0.9375 - loss: 0.8054"
     ]
    },
    {
     "name": "stderr",
     "output_type": "stream",
     "text": [
      "2024-09-26 14:38:58.522773: I tensorflow/core/framework/local_rendezvous.cc:423] Local rendezvous recv item cancelled. Key hash: 17171313441932229212\n",
      "2024-09-26 14:38:58.522818: I tensorflow/core/framework/local_rendezvous.cc:423] Local rendezvous recv item cancelled. Key hash: 8078176627876363934\n",
      "2024-09-26 14:38:58.522837: I tensorflow/core/framework/local_rendezvous.cc:423] Local rendezvous recv item cancelled. Key hash: 3047218368728456900\n"
     ]
    },
    {
     "name": "stdout",
     "output_type": "stream",
     "text": [
      "\u001b[1m6/6\u001b[0m \u001b[32m━━━━━━━━━━━━━━━━━━━━\u001b[0m\u001b[37m\u001b[0m \u001b[1m2s\u001b[0m 229ms/step - accuracy: 0.9293 - loss: 0.5921 - val_accuracy: 0.9583 - val_loss: 0.5155\n",
      "Epoch 3/20\n"
     ]
    },
    {
     "name": "stderr",
     "output_type": "stream",
     "text": [
      "2024-09-26 14:38:59.654500: I tensorflow/core/framework/local_rendezvous.cc:404] Local rendezvous is aborting with status: OUT_OF_RANGE: End of sequence\n",
      "\t [[{{node IteratorGetNext}}]]\n",
      "\t [[IteratorGetNext/_6]]\n",
      "2024-09-26 14:38:59.654558: I tensorflow/core/framework/local_rendezvous.cc:423] Local rendezvous recv item cancelled. Key hash: 17171313441932229212\n",
      "2024-09-26 14:38:59.654569: I tensorflow/core/framework/local_rendezvous.cc:423] Local rendezvous recv item cancelled. Key hash: 3047218368728456900\n",
      "2024-09-26 14:38:59.654584: I tensorflow/core/framework/local_rendezvous.cc:423] Local rendezvous recv item cancelled. Key hash: 8078176627876363934\n"
     ]
    },
    {
     "name": "stdout",
     "output_type": "stream",
     "text": [
      "\u001b[1m1/6\u001b[0m \u001b[32m━━━\u001b[0m\u001b[37m━━━━━━━━━━━━━━━━━\u001b[0m \u001b[1m5s\u001b[0m 1s/step - accuracy: 0.9375 - loss: 0.4868"
     ]
    },
    {
     "name": "stderr",
     "output_type": "stream",
     "text": [
      "2024-09-26 14:39:00.837281: I tensorflow/core/framework/local_rendezvous.cc:423] Local rendezvous recv item cancelled. Key hash: 17171313441932229212\n",
      "2024-09-26 14:39:00.837323: I tensorflow/core/framework/local_rendezvous.cc:423] Local rendezvous recv item cancelled. Key hash: 8078176627876363934\n",
      "2024-09-26 14:39:00.837339: I tensorflow/core/framework/local_rendezvous.cc:423] Local rendezvous recv item cancelled. Key hash: 3047218368728456900\n"
     ]
    },
    {
     "name": "stdout",
     "output_type": "stream",
     "text": [
      "\u001b[1m6/6\u001b[0m \u001b[32m━━━━━━━━━━━━━━━━━━━━\u001b[0m\u001b[37m\u001b[0m \u001b[1m2s\u001b[0m 245ms/step - accuracy: 0.9420 - loss: 0.3875 - val_accuracy: 0.9583 - val_loss: 0.4301\n",
      "Epoch 4/20\n"
     ]
    },
    {
     "name": "stderr",
     "output_type": "stream",
     "text": [
      "2024-09-26 14:39:02.048187: I tensorflow/core/framework/local_rendezvous.cc:423] Local rendezvous recv item cancelled. Key hash: 17171313441932229212\n",
      "2024-09-26 14:39:02.048232: I tensorflow/core/framework/local_rendezvous.cc:423] Local rendezvous recv item cancelled. Key hash: 3047218368728456900\n",
      "2024-09-26 14:39:02.048249: I tensorflow/core/framework/local_rendezvous.cc:423] Local rendezvous recv item cancelled. Key hash: 8078176627876363934\n"
     ]
    },
    {
     "name": "stdout",
     "output_type": "stream",
     "text": [
      "\u001b[1m1/6\u001b[0m \u001b[32m━━━\u001b[0m\u001b[37m━━━━━━━━━━━━━━━━━\u001b[0m \u001b[1m6s\u001b[0m 1s/step - accuracy: 0.9688 - loss: 0.1943"
     ]
    },
    {
     "name": "stderr",
     "output_type": "stream",
     "text": [
      "2024-09-26 14:39:03.318650: I tensorflow/core/framework/local_rendezvous.cc:423] Local rendezvous recv item cancelled. Key hash: 17171313441932229212\n",
      "2024-09-26 14:39:03.318689: I tensorflow/core/framework/local_rendezvous.cc:423] Local rendezvous recv item cancelled. Key hash: 8078176627876363934\n",
      "2024-09-26 14:39:03.318706: I tensorflow/core/framework/local_rendezvous.cc:423] Local rendezvous recv item cancelled. Key hash: 3047218368728456900\n"
     ]
    },
    {
     "name": "stdout",
     "output_type": "stream",
     "text": [
      "\u001b[1m6/6\u001b[0m \u001b[32m━━━━━━━━━━━━━━━━━━━━\u001b[0m\u001b[37m\u001b[0m \u001b[1m2s\u001b[0m 232ms/step - accuracy: 0.9570 - loss: 0.2653 - val_accuracy: 0.9583 - val_loss: 0.3840\n",
      "Epoch 5/20\n"
     ]
    },
    {
     "name": "stderr",
     "output_type": "stream",
     "text": [
      "2024-09-26 14:39:04.464480: I tensorflow/core/framework/local_rendezvous.cc:423] Local rendezvous recv item cancelled. Key hash: 17171313441932229212\n",
      "2024-09-26 14:39:04.464527: I tensorflow/core/framework/local_rendezvous.cc:423] Local rendezvous recv item cancelled. Key hash: 3047218368728456900\n",
      "2024-09-26 14:39:04.464547: I tensorflow/core/framework/local_rendezvous.cc:423] Local rendezvous recv item cancelled. Key hash: 8078176627876363934\n"
     ]
    },
    {
     "name": "stdout",
     "output_type": "stream",
     "text": [
      "\u001b[1m1/6\u001b[0m \u001b[32m━━━\u001b[0m\u001b[37m━━━━━━━━━━━━━━━━━\u001b[0m \u001b[1m5s\u001b[0m 1s/step - accuracy: 0.8750 - loss: 0.5447"
     ]
    },
    {
     "name": "stderr",
     "output_type": "stream",
     "text": [
      "2024-09-26 14:39:05.635476: I tensorflow/core/framework/local_rendezvous.cc:423] Local rendezvous recv item cancelled. Key hash: 8078176627876363934\n",
      "2024-09-26 14:39:05.635520: I tensorflow/core/framework/local_rendezvous.cc:423] Local rendezvous recv item cancelled. Key hash: 3047218368728456900\n"
     ]
    },
    {
     "name": "stdout",
     "output_type": "stream",
     "text": [
      "\u001b[1m6/6\u001b[0m \u001b[32m━━━━━━━━━━━━━━━━━━━━\u001b[0m\u001b[37m\u001b[0m \u001b[1m2s\u001b[0m 231ms/step - accuracy: 0.9426 - loss: 0.2992 - val_accuracy: 0.9583 - val_loss: 0.4024\n",
      "Epoch 6/20\n"
     ]
    },
    {
     "name": "stderr",
     "output_type": "stream",
     "text": [
      "2024-09-26 14:39:06.772256: I tensorflow/core/framework/local_rendezvous.cc:423] Local rendezvous recv item cancelled. Key hash: 17171313441932229212\n",
      "2024-09-26 14:39:06.772320: I tensorflow/core/framework/local_rendezvous.cc:423] Local rendezvous recv item cancelled. Key hash: 3047218368728456900\n",
      "2024-09-26 14:39:06.772341: I tensorflow/core/framework/local_rendezvous.cc:423] Local rendezvous recv item cancelled. Key hash: 8078176627876363934\n"
     ]
    },
    {
     "name": "stdout",
     "output_type": "stream",
     "text": [
      "\u001b[1m1/6\u001b[0m \u001b[32m━━━\u001b[0m\u001b[37m━━━━━━━━━━━━━━━━━\u001b[0m \u001b[1m5s\u001b[0m 1s/step - accuracy: 1.0000 - loss: 0.0296"
     ]
    },
    {
     "name": "stderr",
     "output_type": "stream",
     "text": [
      "2024-09-26 14:39:07.949316: I tensorflow/core/framework/local_rendezvous.cc:423] Local rendezvous recv item cancelled. Key hash: 17171313441932229212\n",
      "2024-09-26 14:39:07.949361: I tensorflow/core/framework/local_rendezvous.cc:423] Local rendezvous recv item cancelled. Key hash: 8078176627876363934\n",
      "2024-09-26 14:39:07.949380: I tensorflow/core/framework/local_rendezvous.cc:423] Local rendezvous recv item cancelled. Key hash: 3047218368728456900\n"
     ]
    },
    {
     "name": "stdout",
     "output_type": "stream",
     "text": [
      "\u001b[1m6/6\u001b[0m \u001b[32m━━━━━━━━━━━━━━━━━━━━\u001b[0m\u001b[37m\u001b[0m \u001b[1m2s\u001b[0m 229ms/step - accuracy: 0.9854 - loss: 0.1291 - val_accuracy: 0.9583 - val_loss: 0.4230\n",
      "Epoch 7/20\n"
     ]
    },
    {
     "name": "stderr",
     "output_type": "stream",
     "text": [
      "2024-09-26 14:39:09.078215: I tensorflow/core/framework/local_rendezvous.cc:423] Local rendezvous recv item cancelled. Key hash: 17171313441932229212\n",
      "2024-09-26 14:39:09.078266: I tensorflow/core/framework/local_rendezvous.cc:423] Local rendezvous recv item cancelled. Key hash: 3047218368728456900\n",
      "2024-09-26 14:39:09.078288: I tensorflow/core/framework/local_rendezvous.cc:423] Local rendezvous recv item cancelled. Key hash: 8078176627876363934\n"
     ]
    },
    {
     "name": "stdout",
     "output_type": "stream",
     "text": [
      "\u001b[1m1/6\u001b[0m \u001b[32m━━━\u001b[0m\u001b[37m━━━━━━━━━━━━━━━━━\u001b[0m \u001b[1m6s\u001b[0m 1s/step - accuracy: 1.0000 - loss: 0.2092"
     ]
    },
    {
     "name": "stderr",
     "output_type": "stream",
     "text": [
      "2024-09-26 14:39:10.362230: I tensorflow/core/framework/local_rendezvous.cc:423] Local rendezvous recv item cancelled. Key hash: 17171313441932229212\n",
      "2024-09-26 14:39:10.362275: I tensorflow/core/framework/local_rendezvous.cc:423] Local rendezvous recv item cancelled. Key hash: 8078176627876363934\n",
      "2024-09-26 14:39:10.362296: I tensorflow/core/framework/local_rendezvous.cc:423] Local rendezvous recv item cancelled. Key hash: 3047218368728456900\n"
     ]
    },
    {
     "name": "stdout",
     "output_type": "stream",
     "text": [
      "\u001b[1m6/6\u001b[0m \u001b[32m━━━━━━━━━━━━━━━━━━━━\u001b[0m\u001b[37m\u001b[0m \u001b[1m2s\u001b[0m 242ms/step - accuracy: 0.9806 - loss: 0.1664 - val_accuracy: 0.9583 - val_loss: 0.4489\n",
      "Epoch 8/20\n"
     ]
    },
    {
     "name": "stderr",
     "output_type": "stream",
     "text": [
      "2024-09-26 14:39:11.557485: I tensorflow/core/framework/local_rendezvous.cc:423] Local rendezvous recv item cancelled. Key hash: 17171313441932229212\n",
      "2024-09-26 14:39:11.557535: I tensorflow/core/framework/local_rendezvous.cc:423] Local rendezvous recv item cancelled. Key hash: 3047218368728456900\n",
      "2024-09-26 14:39:11.557555: I tensorflow/core/framework/local_rendezvous.cc:423] Local rendezvous recv item cancelled. Key hash: 8078176627876363934\n"
     ]
    },
    {
     "name": "stdout",
     "output_type": "stream",
     "text": [
      "\u001b[1m1/6\u001b[0m \u001b[32m━━━\u001b[0m\u001b[37m━━━━━━━━━━━━━━━━━\u001b[0m \u001b[1m6s\u001b[0m 1s/step - accuracy: 0.9688 - loss: 0.1946"
     ]
    },
    {
     "name": "stderr",
     "output_type": "stream",
     "text": [
      "2024-09-26 14:39:12.839094: I tensorflow/core/framework/local_rendezvous.cc:423] Local rendezvous recv item cancelled. Key hash: 8078176627876363934\n"
     ]
    },
    {
     "name": "stdout",
     "output_type": "stream",
     "text": [
      "\u001b[1m6/6\u001b[0m \u001b[32m━━━━━━━━━━━━━━━━━━━━\u001b[0m\u001b[37m\u001b[0m \u001b[1m2s\u001b[0m 232ms/step - accuracy: 0.9679 - loss: 0.1349 - val_accuracy: 0.9583 - val_loss: 0.4847\n",
      "Epoch 9/20\n"
     ]
    },
    {
     "name": "stderr",
     "output_type": "stream",
     "text": [
      "2024-09-26 14:39:13.983002: I tensorflow/core/framework/local_rendezvous.cc:423] Local rendezvous recv item cancelled. Key hash: 17171313441932229212\n",
      "2024-09-26 14:39:13.983050: I tensorflow/core/framework/local_rendezvous.cc:423] Local rendezvous recv item cancelled. Key hash: 3047218368728456900\n",
      "2024-09-26 14:39:13.983072: I tensorflow/core/framework/local_rendezvous.cc:423] Local rendezvous recv item cancelled. Key hash: 8078176627876363934\n"
     ]
    },
    {
     "name": "stdout",
     "output_type": "stream",
     "text": [
      "\u001b[1m1/6\u001b[0m \u001b[32m━━━\u001b[0m\u001b[37m━━━━━━━━━━━━━━━━━\u001b[0m \u001b[1m7s\u001b[0m 1s/step - accuracy: 0.9688 - loss: 0.1292"
     ]
    },
    {
     "name": "stderr",
     "output_type": "stream",
     "text": [
      "2024-09-26 14:39:15.438026: I tensorflow/core/framework/local_rendezvous.cc:423] Local rendezvous recv item cancelled. Key hash: 17171313441932229212\n",
      "2024-09-26 14:39:15.438066: I tensorflow/core/framework/local_rendezvous.cc:423] Local rendezvous recv item cancelled. Key hash: 8078176627876363934\n",
      "2024-09-26 14:39:15.438087: I tensorflow/core/framework/local_rendezvous.cc:423] Local rendezvous recv item cancelled. Key hash: 3047218368728456900\n"
     ]
    },
    {
     "name": "stdout",
     "output_type": "stream",
     "text": [
      "\u001b[1m6/6\u001b[0m \u001b[32m━━━━━━━━━━━━━━━━━━━━\u001b[0m\u001b[37m\u001b[0m \u001b[1m3s\u001b[0m 245ms/step - accuracy: 0.9786 - loss: 0.1040 - val_accuracy: 0.9583 - val_loss: 0.5175\n",
      "Epoch 10/20\n"
     ]
    },
    {
     "name": "stderr",
     "output_type": "stream",
     "text": [
      "2024-09-26 14:39:16.648333: I tensorflow/core/framework/local_rendezvous.cc:423] Local rendezvous recv item cancelled. Key hash: 17171313441932229212\n",
      "2024-09-26 14:39:16.648378: I tensorflow/core/framework/local_rendezvous.cc:423] Local rendezvous recv item cancelled. Key hash: 3047218368728456900\n",
      "2024-09-26 14:39:16.648396: I tensorflow/core/framework/local_rendezvous.cc:423] Local rendezvous recv item cancelled. Key hash: 8078176627876363934\n"
     ]
    },
    {
     "name": "stdout",
     "output_type": "stream",
     "text": [
      "\u001b[1m1/6\u001b[0m \u001b[32m━━━\u001b[0m\u001b[37m━━━━━━━━━━━━━━━━━\u001b[0m \u001b[1m6s\u001b[0m 1s/step - accuracy: 1.0000 - loss: 0.1028"
     ]
    },
    {
     "name": "stderr",
     "output_type": "stream",
     "text": [
      "2024-09-26 14:39:17.977605: I tensorflow/core/framework/local_rendezvous.cc:423] Local rendezvous recv item cancelled. Key hash: 17171313441932229212\n",
      "2024-09-26 14:39:17.977659: I tensorflow/core/framework/local_rendezvous.cc:423] Local rendezvous recv item cancelled. Key hash: 8078176627876363934\n",
      "2024-09-26 14:39:17.977689: I tensorflow/core/framework/local_rendezvous.cc:423] Local rendezvous recv item cancelled. Key hash: 3047218368728456900\n"
     ]
    },
    {
     "name": "stdout",
     "output_type": "stream",
     "text": [
      "\u001b[1m6/6\u001b[0m \u001b[32m━━━━━━━━━━━━━━━━━━━━\u001b[0m\u001b[37m\u001b[0m \u001b[1m2s\u001b[0m 238ms/step - accuracy: 0.9928 - loss: 0.1047 - val_accuracy: 0.9583 - val_loss: 0.5427\n",
      "Epoch 11/20\n"
     ]
    },
    {
     "name": "stderr",
     "output_type": "stream",
     "text": [
      "2024-09-26 14:39:19.150561: I tensorflow/core/framework/local_rendezvous.cc:404] Local rendezvous is aborting with status: OUT_OF_RANGE: End of sequence\n",
      "\t [[{{node IteratorGetNext}}]]\n",
      "\t [[IteratorGetNext/_6]]\n",
      "2024-09-26 14:39:19.150613: I tensorflow/core/framework/local_rendezvous.cc:423] Local rendezvous recv item cancelled. Key hash: 17171313441932229212\n",
      "2024-09-26 14:39:19.150626: I tensorflow/core/framework/local_rendezvous.cc:423] Local rendezvous recv item cancelled. Key hash: 3047218368728456900\n",
      "2024-09-26 14:39:19.150645: I tensorflow/core/framework/local_rendezvous.cc:423] Local rendezvous recv item cancelled. Key hash: 8078176627876363934\n"
     ]
    },
    {
     "name": "stdout",
     "output_type": "stream",
     "text": [
      "\u001b[1m1/6\u001b[0m \u001b[32m━━━\u001b[0m\u001b[37m━━━━━━━━━━━━━━━━━\u001b[0m \u001b[1m5s\u001b[0m 1s/step - accuracy: 1.0000 - loss: 0.0603"
     ]
    },
    {
     "name": "stderr",
     "output_type": "stream",
     "text": [
      "2024-09-26 14:39:20.322849: I tensorflow/core/framework/local_rendezvous.cc:423] Local rendezvous recv item cancelled. Key hash: 17171313441932229212\n",
      "2024-09-26 14:39:20.322882: I tensorflow/core/framework/local_rendezvous.cc:423] Local rendezvous recv item cancelled. Key hash: 8078176627876363934\n",
      "2024-09-26 14:39:20.322898: I tensorflow/core/framework/local_rendezvous.cc:423] Local rendezvous recv item cancelled. Key hash: 3047218368728456900\n"
     ]
    },
    {
     "name": "stdout",
     "output_type": "stream",
     "text": [
      "\u001b[1m6/6\u001b[0m \u001b[32m━━━━━━━━━━━━━━━━━━━━\u001b[0m\u001b[37m\u001b[0m \u001b[1m2s\u001b[0m 241ms/step - accuracy: 1.0000 - loss: 0.0637 - val_accuracy: 0.9583 - val_loss: 0.5871\n",
      "Epoch 12/20\n"
     ]
    },
    {
     "name": "stderr",
     "output_type": "stream",
     "text": [
      "2024-09-26 14:39:21.514461: I tensorflow/core/framework/local_rendezvous.cc:423] Local rendezvous recv item cancelled. Key hash: 17171313441932229212\n",
      "2024-09-26 14:39:21.514517: I tensorflow/core/framework/local_rendezvous.cc:423] Local rendezvous recv item cancelled. Key hash: 3047218368728456900\n",
      "2024-09-26 14:39:21.514540: I tensorflow/core/framework/local_rendezvous.cc:423] Local rendezvous recv item cancelled. Key hash: 8078176627876363934\n"
     ]
    },
    {
     "name": "stdout",
     "output_type": "stream",
     "text": [
      "\u001b[1m1/6\u001b[0m \u001b[32m━━━\u001b[0m\u001b[37m━━━━━━━━━━━━━━━━━\u001b[0m \u001b[1m6s\u001b[0m 1s/step - accuracy: 1.0000 - loss: 0.0806"
     ]
    },
    {
     "name": "stderr",
     "output_type": "stream",
     "text": [
      "2024-09-26 14:39:22.821888: I tensorflow/core/framework/local_rendezvous.cc:423] Local rendezvous recv item cancelled. Key hash: 17171313441932229212\n",
      "2024-09-26 14:39:22.821923: I tensorflow/core/framework/local_rendezvous.cc:423] Local rendezvous recv item cancelled. Key hash: 8078176627876363934\n",
      "2024-09-26 14:39:22.821945: I tensorflow/core/framework/local_rendezvous.cc:423] Local rendezvous recv item cancelled. Key hash: 3047218368728456900\n"
     ]
    },
    {
     "name": "stdout",
     "output_type": "stream",
     "text": [
      "\u001b[1m6/6\u001b[0m \u001b[32m━━━━━━━━━━━━━━━━━━━━\u001b[0m\u001b[37m\u001b[0m \u001b[1m2s\u001b[0m 226ms/step - accuracy: 1.0000 - loss: 0.0640 - val_accuracy: 0.9583 - val_loss: 0.6156\n",
      "Epoch 13/20\n"
     ]
    },
    {
     "name": "stderr",
     "output_type": "stream",
     "text": [
      "2024-09-26 14:39:23.939933: I tensorflow/core/framework/local_rendezvous.cc:423] Local rendezvous recv item cancelled. Key hash: 17171313441932229212\n",
      "2024-09-26 14:39:23.939982: I tensorflow/core/framework/local_rendezvous.cc:423] Local rendezvous recv item cancelled. Key hash: 3047218368728456900\n",
      "2024-09-26 14:39:23.940002: I tensorflow/core/framework/local_rendezvous.cc:423] Local rendezvous recv item cancelled. Key hash: 8078176627876363934\n"
     ]
    },
    {
     "name": "stdout",
     "output_type": "stream",
     "text": [
      "\u001b[1m1/6\u001b[0m \u001b[32m━━━\u001b[0m\u001b[37m━━━━━━━━━━━━━━━━━\u001b[0m \u001b[1m5s\u001b[0m 1s/step - accuracy: 1.0000 - loss: 0.0979"
     ]
    },
    {
     "name": "stderr",
     "output_type": "stream",
     "text": [
      "2024-09-26 14:39:25.141326: I tensorflow/core/framework/local_rendezvous.cc:423] Local rendezvous recv item cancelled. Key hash: 17171313441932229212\n",
      "2024-09-26 14:39:25.141371: I tensorflow/core/framework/local_rendezvous.cc:423] Local rendezvous recv item cancelled. Key hash: 8078176627876363934\n",
      "2024-09-26 14:39:25.141400: I tensorflow/core/framework/local_rendezvous.cc:423] Local rendezvous recv item cancelled. Key hash: 3047218368728456900\n"
     ]
    },
    {
     "name": "stdout",
     "output_type": "stream",
     "text": [
      "\u001b[1m6/6\u001b[0m \u001b[32m━━━━━━━━━━━━━━━━━━━━\u001b[0m\u001b[37m\u001b[0m \u001b[1m2s\u001b[0m 228ms/step - accuracy: 1.0000 - loss: 0.0672 - val_accuracy: 0.9583 - val_loss: 0.6607\n",
      "Epoch 14/20\n"
     ]
    },
    {
     "name": "stderr",
     "output_type": "stream",
     "text": [
      "2024-09-26 14:39:26.269237: I tensorflow/core/framework/local_rendezvous.cc:423] Local rendezvous recv item cancelled. Key hash: 17171313441932229212\n",
      "2024-09-26 14:39:26.269285: I tensorflow/core/framework/local_rendezvous.cc:423] Local rendezvous recv item cancelled. Key hash: 3047218368728456900\n",
      "2024-09-26 14:39:26.269306: I tensorflow/core/framework/local_rendezvous.cc:423] Local rendezvous recv item cancelled. Key hash: 8078176627876363934\n"
     ]
    },
    {
     "name": "stdout",
     "output_type": "stream",
     "text": [
      "\u001b[1m1/6\u001b[0m \u001b[32m━━━\u001b[0m\u001b[37m━━━━━━━━━━━━━━━━━\u001b[0m \u001b[1m6s\u001b[0m 1s/step - accuracy: 1.0000 - loss: 0.0221"
     ]
    },
    {
     "name": "stderr",
     "output_type": "stream",
     "text": [
      "2024-09-26 14:39:27.569604: I tensorflow/core/framework/local_rendezvous.cc:423] Local rendezvous recv item cancelled. Key hash: 17171313441932229212\n",
      "2024-09-26 14:39:27.569649: I tensorflow/core/framework/local_rendezvous.cc:423] Local rendezvous recv item cancelled. Key hash: 8078176627876363934\n",
      "2024-09-26 14:39:27.569672: I tensorflow/core/framework/local_rendezvous.cc:423] Local rendezvous recv item cancelled. Key hash: 3047218368728456900\n"
     ]
    },
    {
     "name": "stdout",
     "output_type": "stream",
     "text": [
      "\u001b[1m6/6\u001b[0m \u001b[32m━━━━━━━━━━━━━━━━━━━━\u001b[0m\u001b[37m\u001b[0m \u001b[1m3s\u001b[0m 257ms/step - accuracy: 1.0000 - loss: 0.0397 - val_accuracy: 0.9583 - val_loss: 0.6933\n",
      "Epoch 15/20\n"
     ]
    },
    {
     "name": "stderr",
     "output_type": "stream",
     "text": [
      "2024-09-26 14:39:28.841355: I tensorflow/core/framework/local_rendezvous.cc:423] Local rendezvous recv item cancelled. Key hash: 17171313441932229212\n",
      "2024-09-26 14:39:28.841403: I tensorflow/core/framework/local_rendezvous.cc:423] Local rendezvous recv item cancelled. Key hash: 3047218368728456900\n",
      "2024-09-26 14:39:28.841423: I tensorflow/core/framework/local_rendezvous.cc:423] Local rendezvous recv item cancelled. Key hash: 8078176627876363934\n"
     ]
    },
    {
     "name": "stdout",
     "output_type": "stream",
     "text": [
      "\u001b[1m1/6\u001b[0m \u001b[32m━━━\u001b[0m\u001b[37m━━━━━━━━━━━━━━━━━\u001b[0m \u001b[1m5s\u001b[0m 1s/step - accuracy: 1.0000 - loss: 0.0579"
     ]
    },
    {
     "name": "stderr",
     "output_type": "stream",
     "text": [
      "2024-09-26 14:39:29.996301: I tensorflow/core/framework/local_rendezvous.cc:423] Local rendezvous recv item cancelled. Key hash: 17171313441932229212\n",
      "2024-09-26 14:39:29.996352: I tensorflow/core/framework/local_rendezvous.cc:423] Local rendezvous recv item cancelled. Key hash: 8078176627876363934\n",
      "2024-09-26 14:39:29.996374: I tensorflow/core/framework/local_rendezvous.cc:423] Local rendezvous recv item cancelled. Key hash: 3047218368728456900\n"
     ]
    },
    {
     "name": "stdout",
     "output_type": "stream",
     "text": [
      "\u001b[1m6/6\u001b[0m \u001b[32m━━━━━━━━━━━━━━━━━━━━\u001b[0m\u001b[37m\u001b[0m \u001b[1m2s\u001b[0m 260ms/step - accuracy: 1.0000 - loss: 0.0478 - val_accuracy: 0.9583 - val_loss: 0.7231\n",
      "Epoch 16/20\n"
     ]
    },
    {
     "name": "stderr",
     "output_type": "stream",
     "text": [
      "2024-09-26 14:39:31.279938: I tensorflow/core/framework/local_rendezvous.cc:423] Local rendezvous recv item cancelled. Key hash: 17171313441932229212\n",
      "2024-09-26 14:39:31.279981: I tensorflow/core/framework/local_rendezvous.cc:423] Local rendezvous recv item cancelled. Key hash: 3047218368728456900\n",
      "2024-09-26 14:39:31.280001: I tensorflow/core/framework/local_rendezvous.cc:423] Local rendezvous recv item cancelled. Key hash: 8078176627876363934\n"
     ]
    },
    {
     "name": "stdout",
     "output_type": "stream",
     "text": [
      "\u001b[1m1/6\u001b[0m \u001b[32m━━━\u001b[0m\u001b[37m━━━━━━━━━━━━━━━━━\u001b[0m \u001b[1m6s\u001b[0m 1s/step - accuracy: 1.0000 - loss: 0.0101"
     ]
    },
    {
     "name": "stderr",
     "output_type": "stream",
     "text": [
      "2024-09-26 14:39:32.564723: I tensorflow/core/framework/local_rendezvous.cc:423] Local rendezvous recv item cancelled. Key hash: 17171313441932229212\n",
      "2024-09-26 14:39:32.564768: I tensorflow/core/framework/local_rendezvous.cc:423] Local rendezvous recv item cancelled. Key hash: 8078176627876363934\n",
      "2024-09-26 14:39:32.564789: I tensorflow/core/framework/local_rendezvous.cc:423] Local rendezvous recv item cancelled. Key hash: 3047218368728456900\n"
     ]
    },
    {
     "name": "stdout",
     "output_type": "stream",
     "text": [
      "\u001b[1m6/6\u001b[0m \u001b[32m━━━━━━━━━━━━━━━━━━━━\u001b[0m\u001b[37m\u001b[0m \u001b[1m2s\u001b[0m 232ms/step - accuracy: 1.0000 - loss: 0.0269 - val_accuracy: 0.9583 - val_loss: 0.7476\n",
      "Epoch 17/20\n"
     ]
    },
    {
     "name": "stderr",
     "output_type": "stream",
     "text": [
      "2024-09-26 14:39:33.709910: I tensorflow/core/framework/local_rendezvous.cc:423] Local rendezvous recv item cancelled. Key hash: 17171313441932229212\n",
      "2024-09-26 14:39:33.709951: I tensorflow/core/framework/local_rendezvous.cc:423] Local rendezvous recv item cancelled. Key hash: 3047218368728456900\n",
      "2024-09-26 14:39:33.709968: I tensorflow/core/framework/local_rendezvous.cc:423] Local rendezvous recv item cancelled. Key hash: 8078176627876363934\n"
     ]
    },
    {
     "name": "stdout",
     "output_type": "stream",
     "text": [
      "\u001b[1m1/6\u001b[0m \u001b[32m━━━\u001b[0m\u001b[37m━━━━━━━━━━━━━━━━━\u001b[0m \u001b[1m5s\u001b[0m 1s/step - accuracy: 1.0000 - loss: 0.0400"
     ]
    },
    {
     "name": "stderr",
     "output_type": "stream",
     "text": [
      "2024-09-26 14:39:34.905099: I tensorflow/core/framework/local_rendezvous.cc:423] Local rendezvous recv item cancelled. Key hash: 17171313441932229212\n",
      "2024-09-26 14:39:34.905137: I tensorflow/core/framework/local_rendezvous.cc:423] Local rendezvous recv item cancelled. Key hash: 8078176627876363934\n",
      "2024-09-26 14:39:34.905155: I tensorflow/core/framework/local_rendezvous.cc:423] Local rendezvous recv item cancelled. Key hash: 3047218368728456900\n"
     ]
    },
    {
     "name": "stdout",
     "output_type": "stream",
     "text": [
      "\u001b[1m6/6\u001b[0m \u001b[32m━━━━━━━━━━━━━━━━━━━━\u001b[0m\u001b[37m\u001b[0m \u001b[1m2s\u001b[0m 254ms/step - accuracy: 1.0000 - loss: 0.0324 - val_accuracy: 0.9583 - val_loss: 0.7780\n",
      "Epoch 18/20\n"
     ]
    },
    {
     "name": "stderr",
     "output_type": "stream",
     "text": [
      "2024-09-26 14:39:36.162282: I tensorflow/core/framework/local_rendezvous.cc:423] Local rendezvous recv item cancelled. Key hash: 17171313441932229212\n",
      "2024-09-26 14:39:36.162335: I tensorflow/core/framework/local_rendezvous.cc:423] Local rendezvous recv item cancelled. Key hash: 3047218368728456900\n",
      "2024-09-26 14:39:36.162357: I tensorflow/core/framework/local_rendezvous.cc:423] Local rendezvous recv item cancelled. Key hash: 8078176627876363934\n"
     ]
    },
    {
     "name": "stdout",
     "output_type": "stream",
     "text": [
      "\u001b[1m1/6\u001b[0m \u001b[32m━━━\u001b[0m\u001b[37m━━━━━━━━━━━━━━━━━\u001b[0m \u001b[1m6s\u001b[0m 1s/step - accuracy: 1.0000 - loss: 0.0200"
     ]
    },
    {
     "name": "stderr",
     "output_type": "stream",
     "text": [
      "2024-09-26 14:39:37.483972: I tensorflow/core/framework/local_rendezvous.cc:423] Local rendezvous recv item cancelled. Key hash: 17171313441932229212\n",
      "2024-09-26 14:39:37.484017: I tensorflow/core/framework/local_rendezvous.cc:423] Local rendezvous recv item cancelled. Key hash: 8078176627876363934\n",
      "2024-09-26 14:39:37.484034: I tensorflow/core/framework/local_rendezvous.cc:423] Local rendezvous recv item cancelled. Key hash: 3047218368728456900\n"
     ]
    },
    {
     "name": "stdout",
     "output_type": "stream",
     "text": [
      "\u001b[1m6/6\u001b[0m \u001b[32m━━━━━━━━━━━━━━━━━━━━\u001b[0m\u001b[37m\u001b[0m \u001b[1m2s\u001b[0m 234ms/step - accuracy: 1.0000 - loss: 0.0316 - val_accuracy: 0.9583 - val_loss: 0.8086\n",
      "Epoch 19/20\n"
     ]
    },
    {
     "name": "stderr",
     "output_type": "stream",
     "text": [
      "2024-09-26 14:39:38.638194: I tensorflow/core/framework/local_rendezvous.cc:423] Local rendezvous recv item cancelled. Key hash: 17171313441932229212\n",
      "2024-09-26 14:39:38.638239: I tensorflow/core/framework/local_rendezvous.cc:423] Local rendezvous recv item cancelled. Key hash: 3047218368728456900\n",
      "2024-09-26 14:39:38.638259: I tensorflow/core/framework/local_rendezvous.cc:423] Local rendezvous recv item cancelled. Key hash: 8078176627876363934\n"
     ]
    },
    {
     "name": "stdout",
     "output_type": "stream",
     "text": [
      "\u001b[1m1/6\u001b[0m \u001b[32m━━━\u001b[0m\u001b[37m━━━━━━━━━━━━━━━━━\u001b[0m \u001b[1m5s\u001b[0m 1s/step - accuracy: 1.0000 - loss: 0.0146"
     ]
    },
    {
     "name": "stderr",
     "output_type": "stream",
     "text": [
      "2024-09-26 14:39:39.843732: I tensorflow/core/framework/local_rendezvous.cc:423] Local rendezvous recv item cancelled. Key hash: 17171313441932229212\n",
      "2024-09-26 14:39:39.843773: I tensorflow/core/framework/local_rendezvous.cc:423] Local rendezvous recv item cancelled. Key hash: 8078176627876363934\n",
      "2024-09-26 14:39:39.843790: I tensorflow/core/framework/local_rendezvous.cc:423] Local rendezvous recv item cancelled. Key hash: 3047218368728456900\n"
     ]
    },
    {
     "name": "stdout",
     "output_type": "stream",
     "text": [
      "\u001b[1m6/6\u001b[0m \u001b[32m━━━━━━━━━━━━━━━━━━━━\u001b[0m\u001b[37m\u001b[0m \u001b[1m2s\u001b[0m 239ms/step - accuracy: 1.0000 - loss: 0.0229 - val_accuracy: 0.9583 - val_loss: 0.8363\n",
      "Epoch 20/20\n"
     ]
    },
    {
     "name": "stderr",
     "output_type": "stream",
     "text": [
      "2024-09-26 14:39:41.027684: I tensorflow/core/framework/local_rendezvous.cc:423] Local rendezvous recv item cancelled. Key hash: 17171313441932229212\n",
      "2024-09-26 14:39:41.027732: I tensorflow/core/framework/local_rendezvous.cc:423] Local rendezvous recv item cancelled. Key hash: 3047218368728456900\n",
      "2024-09-26 14:39:41.027752: I tensorflow/core/framework/local_rendezvous.cc:423] Local rendezvous recv item cancelled. Key hash: 8078176627876363934\n"
     ]
    },
    {
     "name": "stdout",
     "output_type": "stream",
     "text": [
      "\u001b[1m1/6\u001b[0m \u001b[32m━━━\u001b[0m\u001b[37m━━━━━━━━━━━━━━━━━\u001b[0m \u001b[1m6s\u001b[0m 1s/step - accuracy: 1.0000 - loss: 0.0190"
     ]
    },
    {
     "name": "stderr",
     "output_type": "stream",
     "text": [
      "2024-09-26 14:39:42.326191: I tensorflow/core/framework/local_rendezvous.cc:423] Local rendezvous recv item cancelled. Key hash: 17171313441932229212\n",
      "2024-09-26 14:39:42.326232: I tensorflow/core/framework/local_rendezvous.cc:423] Local rendezvous recv item cancelled. Key hash: 8078176627876363934\n",
      "2024-09-26 14:39:42.326255: I tensorflow/core/framework/local_rendezvous.cc:423] Local rendezvous recv item cancelled. Key hash: 3047218368728456900\n"
     ]
    },
    {
     "name": "stdout",
     "output_type": "stream",
     "text": [
      "\u001b[1m6/6\u001b[0m \u001b[32m━━━━━━━━━━━━━━━━━━━━\u001b[0m\u001b[37m\u001b[0m \u001b[1m2s\u001b[0m 229ms/step - accuracy: 1.0000 - loss: 0.0214 - val_accuracy: 0.9583 - val_loss: 0.8713\n"
     ]
    },
    {
     "name": "stderr",
     "output_type": "stream",
     "text": [
      "2024-09-26 14:39:43.457618: I tensorflow/core/framework/local_rendezvous.cc:423] Local rendezvous recv item cancelled. Key hash: 17171313441932229212\n",
      "2024-09-26 14:39:43.457663: I tensorflow/core/framework/local_rendezvous.cc:423] Local rendezvous recv item cancelled. Key hash: 3047218368728456900\n",
      "2024-09-26 14:39:43.457684: I tensorflow/core/framework/local_rendezvous.cc:423] Local rendezvous recv item cancelled. Key hash: 8078176627876363934\n"
     ]
    }
   ],
   "source": [
    "import tensorflow as tf\n",
    "import numpy as np\n",
    "from scipy.signal import resample\n",
    "from sklearn.preprocessing import LabelEncoder\n",
    "import tensorflow_hub as hub\n",
    "\n",
    "yamnet_model = hub.load('https://tfhub.dev/google/yamnet/1')\n",
    "\n",
    "def load_and_process_audio(filename, max_length=16000):\n",
    "    file_contents = tf.io.read_file(filename)\n",
    "    wav, sample_rate = tf.audio.decode_wav(file_contents, desired_channels=1)\n",
    "    wav = tf.squeeze(wav, axis=-1)\n",
    "    \n",
    "    def scipy_resample(wav, sample_rate):\n",
    "        if sample_rate != 16000:\n",
    "            wav = resample(wav, int(16000 / sample_rate * len(wav)))\n",
    "        return wav\n",
    "\n",
    "    wav = tf.py_function(scipy_resample, [wav, sample_rate], tf.float32)\n",
    "    \n",
    "    # Adding paddings or slicing the signal\n",
    "    audio_length = tf.shape(wav)[0]\n",
    "    if audio_length > max_length:\n",
    "        wav = wav[:max_length]\n",
    "    else:\n",
    "        pad_length = max_length - audio_length\n",
    "        paddings = [[0, pad_length]]\n",
    "        wav = tf.pad(wav, paddings, \"CONSTANT\")\n",
    "    \n",
    "    return tf.reshape(wav, [max_length])\n",
    "\n",
    "def process_path(file_path, label, fold):\n",
    "    audio = load_and_process_audio(file_path)\n",
    "    label = tf.cast(label, tf.int64)\n",
    "    fold = tf.cast(fold, tf.int64)\n",
    "    return audio, label, fold\n",
    "\n",
    "# Builds a tensorflow dataset\n",
    "def paths_labels_folds_to_dataset(audio_paths, labels, folds):\n",
    "    path_ds = tf.data.Dataset.from_tensor_slices(audio_paths)\n",
    "    label_ds = tf.data.Dataset.from_tensor_slices(labels)\n",
    "    fold_ds = tf.data.Dataset.from_tensor_slices(folds)\n",
    "    audio_label_fold_ds = tf.data.Dataset.zip((path_ds, label_ds, fold_ds))\n",
    "    return audio_label_fold_ds.map(lambda path, label, fold: tf.py_function(\n",
    "        func=process_path, inp=[path, label, fold], Tout=[tf.float32, tf.int64, tf.int64]), num_parallel_calls=tf.data.AUTOTUNE)\n",
    "\n",
    "def prepare_for_training(ds, batch_size=32, shuffle_buffer_size=1000):\n",
    "    ds = ds.shuffle(buffer_size=shuffle_buffer_size)\n",
    "    ds = ds.batch(batch_size)\n",
    "    ds = ds.prefetch(buffer_size=tf.data.AUTOTUNE)\n",
    "    return ds\n",
    "\n",
    "def extract_embedding(wav_data, label, fold):\n",
    "    ''' run YAMNet to extract embedding from the wav data '''\n",
    "    scores, embeddings, spectrogram = yamnet_model(wav_data)\n",
    "    num_embeddings = tf.shape(embeddings)[0]\n",
    "    return (embeddings,\n",
    "            tf.repeat(label, num_embeddings),\n",
    "            tf.repeat(fold, num_embeddings))\n",
    "\n",
    "audio_paths = df_filtrado['filename'].tolist()\n",
    "labels = df_filtrado['alvo'].tolist()\n",
    "folds = df_filtrado['fold'].tolist()\n",
    "\n",
    "complete_dataset = paths_labels_folds_to_dataset(audio_paths, labels, folds)\n",
    "\n",
    "for audio, label, fold in complete_dataset.take(1):\n",
    "    print(f\"Audio shape: {audio.shape}\")\n",
    "    print(f\"Label: {label}\")\n",
    "    print(f\"Fold: {fold}\")\n",
    "\n",
    "complete_dataset = complete_dataset.map(extract_embedding).unbatch()\n",
    "\n",
    "for embeddings, label, fold in complete_dataset.take(1):\n",
    "    print(f\"Embeddings shape: {embeddings.shape}\")\n",
    "    print(f\"Label: {label}\")\n",
    "    print(f\"Fold: {fold}\")\n",
    "\n",
    "train_dataset = complete_dataset.filter(lambda embeddings, label, fold: fold < 5)  # folds 1-4 for training\n",
    "val_dataset = complete_dataset.filter(lambda embeddings, label, fold: fold == 5)   # fold 5 for validation\n",
    "\n",
    "train_dataset = prepare_for_training(train_dataset)\n",
    "val_dataset = prepare_for_training(val_dataset)\n",
    "\n",
    "print(train_dataset.element_spec)\n",
    "print(val_dataset.element_spec)\n",
    "\n",
    "model = tf.keras.Sequential([\n",
    "    tf.keras.layers.Input(shape=(1024,), dtype=tf.float32, name='input_embedding'),\n",
    "    tf.keras.layers.Dense(512, activation='relu'),\n",
    "    tf.keras.layers.Dense(len(np.unique(labels))) # Setting the loss functions as \"SparseCategoricalCrossentropy\" makes the last dense layer \n",
    "                                                  # return the probabilities like the softmax would do\n",
    "])\n",
    "\n",
    "model.summary()\n",
    "\n",
    "model.compile(loss=tf.keras.losses.SparseCategoricalCrossentropy(from_logits=True),\n",
    "                 optimizer=\"adam\",\n",
    "                 metrics=['accuracy'])\n",
    "\n",
    "callback = tf.keras.callbacks.EarlyStopping(monitor='loss', patience=3, restore_best_weights=True)\n",
    "\n",
    "history = model.fit(train_dataset,\n",
    "                       epochs=20,\n",
    "                       validation_data=val_dataset,\n",
    "                       callbacks=[callback])"
   ]
  },
  {
   "cell_type": "markdown",
   "metadata": {},
   "source": [
    "## Testing the model"
   ]
  },
  {
   "cell_type": "code",
   "execution_count": 145,
   "metadata": {},
   "outputs": [],
   "source": [
    "def process_and_extract_embeddings(waveform, sample_rate, max_length=16000):\n",
    "    # Função de resampling usando SciPy\n",
    "    def scipy_resample(wav, sample_rate):\n",
    "        if sample_rate != 16000:\n",
    "            wav = resample(wav, int(16000 / sample_rate * len(wav)))\n",
    "        return wav\n",
    "\n",
    "    # Usar tf.py_function para envolver a operação de resampling\n",
    "    wav = tf.py_function(scipy_resample, [waveform, sample_rate], tf.float32)\n",
    "    \n",
    "    # Adicionar padding ou cortar os sinais de áudio\n",
    "    audio_length = tf.shape(wav)[0]\n",
    "    if audio_length > max_length:\n",
    "        wav = wav[:max_length]\n",
    "    else:\n",
    "        pad_length = max_length - audio_length\n",
    "        paddings = [[0, pad_length]]\n",
    "        wav = tf.pad(wav, paddings, \"CONSTANT\")\n",
    "    \n",
    "    wav = tf.reshape(wav, [max_length])\n",
    "\n",
    "    # Extrair embeddings usando YAMNet\n",
    "    scores, embeddings, spectrogram = yamnet_model(wav)\n",
    "    return embeddings"
   ]
  },
  {
   "cell_type": "code",
   "execution_count": 150,
   "metadata": {},
   "outputs": [],
   "source": [
    "def predict_audio_class(file_path, model, class_map):\n",
    "    # Carregar e processar o arquivo de áudio MP3\n",
    "    waveform, sample_rate = load_audio(file_path)\n",
    "    \n",
    "    # Processar e extrair embeddings\n",
    "    embeddings = process_and_extract_embeddings(waveform, sample_rate)\n",
    "    \n",
    "    # Fazer a inferência com o modelo treinado\n",
    "    predictions = model.predict(embeddings, verbose=0)\n",
    "    \n",
    "    # Agregar as previsões (por exemplo, usando a média das previsões)\n",
    "    final_prediction = np.mean(predictions, axis=0)\n",
    "    predicted_class_index = np.argmax(final_prediction)\n",
    "    \n",
    "    # Mapear o índice previsto para o nome da classe\n",
    "    predicted_class_name = class_map[predicted_class_index]\n",
    "    \n",
    "    return predicted_class_name"
   ]
  },
  {
   "cell_type": "code",
   "execution_count": 147,
   "metadata": {},
   "outputs": [],
   "source": [
    "mapeamento = {'dog': 0, 'door_wood_creaks': 1, 'glass_breaking': 2}\n",
    "mapeamento_inverso = {v: k for k, v in mapeamento.items()}"
   ]
  },
  {
   "cell_type": "code",
   "execution_count": 151,
   "metadata": {},
   "outputs": [
    {
     "name": "stderr",
     "output_type": "stream",
     "text": [
      "W0000 00:00:1727362910.957408    2319 gpu_timer.cc:114] Skipping the delay kernel, measurement accuracy will be reduced\n",
      "W0000 00:00:1727362910.957788    2319 gpu_timer.cc:114] Skipping the delay kernel, measurement accuracy will be reduced\n",
      "W0000 00:00:1727362910.958116    2319 gpu_timer.cc:114] Skipping the delay kernel, measurement accuracy will be reduced\n",
      "W0000 00:00:1727362910.958439    2319 gpu_timer.cc:114] Skipping the delay kernel, measurement accuracy will be reduced\n",
      "W0000 00:00:1727362910.958763    2319 gpu_timer.cc:114] Skipping the delay kernel, measurement accuracy will be reduced\n",
      "W0000 00:00:1727362910.959067    2319 gpu_timer.cc:114] Skipping the delay kernel, measurement accuracy will be reduced\n",
      "W0000 00:00:1727362910.959380    2319 gpu_timer.cc:114] Skipping the delay kernel, measurement accuracy will be reduced\n",
      "W0000 00:00:1727362910.959703    2319 gpu_timer.cc:114] Skipping the delay kernel, measurement accuracy will be reduced\n",
      "W0000 00:00:1727362910.960001    2319 gpu_timer.cc:114] Skipping the delay kernel, measurement accuracy will be reduced\n",
      "W0000 00:00:1727362910.960299    2319 gpu_timer.cc:114] Skipping the delay kernel, measurement accuracy will be reduced\n",
      "W0000 00:00:1727362910.960613    2319 gpu_timer.cc:114] Skipping the delay kernel, measurement accuracy will be reduced\n",
      "W0000 00:00:1727362910.960913    2319 gpu_timer.cc:114] Skipping the delay kernel, measurement accuracy will be reduced\n",
      "W0000 00:00:1727362910.961220    2319 gpu_timer.cc:114] Skipping the delay kernel, measurement accuracy will be reduced\n",
      "W0000 00:00:1727362910.961529    2319 gpu_timer.cc:114] Skipping the delay kernel, measurement accuracy will be reduced\n",
      "W0000 00:00:1727362910.961886    2319 gpu_timer.cc:114] Skipping the delay kernel, measurement accuracy will be reduced\n",
      "W0000 00:00:1727362910.962454    2319 gpu_timer.cc:114] Skipping the delay kernel, measurement accuracy will be reduced\n",
      "W0000 00:00:1727362910.962799    2319 gpu_timer.cc:114] Skipping the delay kernel, measurement accuracy will be reduced\n"
     ]
    },
    {
     "data": {
      "text/plain": [
       "'glass_breaking'"
      ]
     },
     "execution_count": 151,
     "metadata": {},
     "output_type": "execute_result"
    }
   ],
   "source": [
    "# Exemplo de uso\n",
    "file_path = 'glass-hit-192119.mp3'\n",
    "predicted_class = predict_audio_class(file_path, model, mapeamento_inverso)\n",
    "predicted_class"
   ]
  },
  {
   "cell_type": "code",
   "execution_count": null,
   "metadata": {},
   "outputs": [],
   "source": []
  }
 ],
 "metadata": {
  "language_info": {
   "name": "python"
  }
 },
 "nbformat": 4,
 "nbformat_minor": 2
}
